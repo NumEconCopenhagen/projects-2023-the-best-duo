{
 "cells": [
  {
   "attachments": {},
   "cell_type": "markdown",
   "metadata": {},
   "source": [
    "# An agent-based approach to labor and good supply and demand"
   ]
  },
  {
   "attachments": {},
   "cell_type": "markdown",
   "metadata": {},
   "source": [
    "> **Note the following:** \n",
    "> 1. This is *not* meant to be an example of an actual **model analysis project**, just an example of how to structure such a project.\n",
    "> 1. Remember the general advice on structuring and commenting your code\n",
    "> 1. The `modelproject.py` file includes a function which could be used multiple times in this notebook."
   ]
  },
  {
   "attachments": {},
   "cell_type": "markdown",
   "metadata": {},
   "source": [
    "Imports and set magics:"
   ]
  },
  {
   "cell_type": "code",
   "execution_count": 1,
   "metadata": {},
   "outputs": [],
   "source": [
    "# a. imports\n",
    "import numpy as np\n",
    "from scipy import optimize\n",
    "import sympy as sm\n",
    "import matplotlib.pyplot as plt\n",
    "\n",
    "# b. other documents\n",
    "from functions_1 import *\n",
    "from class_1 import *\n",
    "\n",
    "# c. autoreload\n",
    "%load_ext autoreload\n",
    "%autoreload 2"
   ]
  },
  {
   "attachments": {},
   "cell_type": "markdown",
   "metadata": {},
   "source": [
    "# Model description"
   ]
  },
  {
   "attachments": {},
   "cell_type": "markdown",
   "metadata": {},
   "source": [
    "\n",
    "\n",
    "Our model follows the basic principles of supply and demand for both the labor and the goods market, but with two independent agents: The persons and the firms. Both of them interact on both markets and they determine their equilibrium price and wage."
   ]
  },
  {
   "attachments": {},
   "cell_type": "markdown",
   "metadata": {},
   "source": [
    "**Assumptions:** \n",
    "\n",
    "Each agent has the same bargaining power.\n",
    "\n",
    "Only one homogeneous good is sold, therefore there isn't any preference over the other.\n",
    "\n",
    "All the firms are homogeneous, therefore there isn´t any preference of working there over other firms.\n",
    "\n",
    "All the individuals are homogeneous, therefore they have the same skill and productivity."
   ]
  },
  {
   "attachments": {},
   "cell_type": "markdown",
   "metadata": {},
   "source": [
    "## The goods market"
   ]
  },
  {
   "attachments": {},
   "cell_type": "markdown",
   "metadata": {},
   "source": [
    "The good market is characterized by a demand curve which represents the willingness to pay of the buyers, which are the persons. On the other side, the supply curve represents the willingness to sell of the sellers, which are the firms. Where the two curves meet will create an equilibrium where quantity demanded is equal to quantity supplied, and gives an equilibrium price."
   ]
  },
  {
   "attachments": {},
   "cell_type": "markdown",
   "metadata": {},
   "source": [
    "**How it works:**\n",
    "\n",
    "In our model, the sellers will have a set minimum price they are willing to sell a good, and the buyers will have a maximum price they are willing to buy a good, and both will never transgress these limits.\n",
    "\n",
    "The sellers will be selling one good at a set price everyday, and the buyers will have an expected price for that good in that day.\n",
    "\n",
    "If the price set by the seller is not superior than the expected price of the buyer, then a successful trade will happen. Then, next day, that seller will set a higher price, while the buyer will expect a lower price.\n",
    "\n",
    "Otherwise, if the trade does not happen, at the end of the day, the sellers that didn't sell will decrease their prices and the buyers that did not buy will accept a higher price.\n",
    "\n",
    "In the long run, these interactions will converge in an equilibrium price for the good, where the amount of sellers willing to sell is the same as the amount of buyers willing to buy."
   ]
  },
  {
   "attachments": {},
   "cell_type": "markdown",
   "metadata": {},
   "source": [
    "**Example:** if we simulate one person and two firms, the equilibrium price will be such that one firm will be driven out of the market, and the buyer only buys from the other one."
   ]
  },
  {
   "cell_type": "code",
   "execution_count": null,
   "metadata": {},
   "outputs": [],
   "source": [
    "# a. parameters\n",
    "p_dem_func = lambda x: 15\n",
    "p_sup_func = lambda x: 5*x\n",
    "initial_p = 12\n",
    "n_days = 16\n",
    "\n",
    "# b. plot\n",
    "plot_func(p_dem_func,p_sup_func,initial_p,n_days=n_days,n_persons=1,n_firms=2,only_goods=True)\n"
   ]
  },
  {
   "attachments": {},
   "cell_type": "markdown",
   "metadata": {},
   "source": [
    "As we can see, supply converged with demand right when price reached 9 and one of the firms could not support that price."
   ]
  },
  {
   "attachments": {},
   "cell_type": "markdown",
   "metadata": {},
   "source": [
    "## Labor market"
   ]
  },
  {
   "attachments": {},
   "cell_type": "markdown",
   "metadata": {},
   "source": [
    "The labor market is characterized by a demand curve which represents the firms' willingness to employ at a given wage and the supply is the willingness to work for a given wage. Since persons only care about the real wage they receive, meaning the amount of goods they can buy with their wage on the goods market, we decided to do the labor market with the real wage. Where the two curves meet will create an equilibrium where labor demanded is equal to labor supplied, and gives an equilibrium real wage. To translate into nominal wage, you only have to multiply by the price of the goods market."
   ]
  },
  {
   "attachments": {},
   "cell_type": "markdown",
   "metadata": {},
   "source": [
    "The agents behave in a similar way that in the goods market. The only difference is that the wage is decided nominaly, while the boundaries (minimum wage for persons and maximum wage for firms) are in terms of real wage. To make it work, we translated the boundary wages into nominal terms, so that those limits are imposed, and they find and equilibrium nominally."
   ]
  },
  {
   "attachments": {},
   "cell_type": "markdown",
   "metadata": {},
   "source": [
    "**Example:** If we simulate one person and two firms, these firms will compete wages until one of them is driven out of the market."
   ]
  },
  {
   "cell_type": "code",
   "execution_count": null,
   "metadata": {},
   "outputs": [],
   "source": [
    "# a. parameters\n",
    "rw_dem_func = lambda x: 1.5 - 0.2 * x\n",
    "rw_sup_func = lambda x: 0.8\n",
    "n_days = 16\n",
    "initial_w = 8\n",
    "initial_p = 10\n",
    "\n",
    "# b. plot\n",
    "plot_func(rw_dem_func=rw_dem_func,rw_sup_func=rw_sup_func,initial_p=initial_p,initial_w=initial_w,n_days=n_days,n_persons=1,n_firms=2,only_labor=True)"
   ]
  },
  {
   "attachments": {},
   "cell_type": "markdown",
   "metadata": {},
   "source": [
    "As shown here, supply and demand converge to 1, when real wage goes to 1.2. This is because one of the firms isn't able to compete with the other firm, then it is driven out of the market."
   ]
  },
  {
   "attachments": {},
   "cell_type": "markdown",
   "metadata": {},
   "source": [
    "## Both markets together"
   ]
  },
  {
   "attachments": {},
   "cell_type": "markdown",
   "metadata": {},
   "source": [
    "If we simulate both markets together we will obtain an interaction effect from prices to wages. The more prices increase, the bigger the equilibrium nominal wage will be, just to maintain a constant real wage. Therefore, both market grow together."
   ]
  },
  {
   "cell_type": "code",
   "execution_count": null,
   "metadata": {},
   "outputs": [],
   "source": [
    "# a. parameters\n",
    "p_dem_func = lambda x: 15\n",
    "p_sup_func = lambda x: 5*x\n",
    "rw_dem_func = lambda x: 1.5 - 0.2 * x\n",
    "rw_sup_func = lambda x: 0.8\n",
    "n_days = 16\n",
    "initial_w = 12\n",
    "initial_p = 12\n",
    "\n",
    "# b. plot \n",
    "plot_func(p_dem_func, p_sup_func,initial_p, rw_dem_func, rw_sup_func, initial_w, n_days, n_persons=1, n_firms=2)\n"
   ]
  },
  {
   "attachments": {},
   "cell_type": "markdown",
   "metadata": {},
   "source": [
    "Concluding, the price will converge to the same as we saw before, and so did real wage, but nominal wage decreased as we can see."
   ]
  },
  {
   "attachments": {},
   "cell_type": "markdown",
   "metadata": {},
   "source": [
    "## Analytical solution"
   ]
  },
  {
   "attachments": {},
   "cell_type": "markdown",
   "metadata": {},
   "source": [
    "In this project, we'll be using set equations for both demand and supply in both markets, which is set for 25 firms and 25 persons. If needed, they will be stretched to fit more agents."
   ]
  },
  {
   "cell_type": "code",
   "execution_count": null,
   "metadata": {},
   "outputs": [],
   "source": [
    "# a. goods market equations\n",
    "Qs = sm.symbols(\"Q_s\")\n",
    "Qd = sm.symbols(\"Q_d\")\n",
    "p = sm.symbols(\"p\")\n",
    "\n",
    "inv_Q_dem = sm.Eq(p,55 - 2*Qd)\n",
    "inv_Q_sup = sm.Eq(p,2*Qs)\n",
    "\n",
    "# b. labor market equations\n",
    "Ls = sm.symbols(\"L_s\")\n",
    "Ld = sm.symbols(\"L_d\")\n",
    "rw = sm.symbols(\"w\")\n",
    "\n",
    "inv_L_dem = sm.Eq(rw,2.16 - 0.08*Ld)\n",
    "inv_L_sup = sm.Eq(rw,0.08*Ls + 0.16)"
   ]
  },
  {
   "attachments": {},
   "cell_type": "markdown",
   "metadata": {},
   "source": [
    "\\begin{cases}p = 55 - 2 Q_{d}\\\\p = 2 Q_{s}\\\\w = 2.16 - 0.08 L_{d}\\\\w = 0.08 L_{s} + 0.16\\end{cases}"
   ]
  },
  {
   "cell_type": "code",
   "execution_count": null,
   "metadata": {},
   "outputs": [],
   "source": [
    "# a. solving the good market equilibrium\n",
    "Q = sm.solve(inv_Q_dem,Qd)[0]\n",
    "p_eq = inv_Q_sup.subs(Qs,Q)\n",
    "P = sm.solve(p_eq,p)[0]\n",
    "Q = Q.subs(p,P)\n",
    "\n",
    "# b. solving the labor market equilibrium\n",
    "L = sm.solve(inv_L_dem,Ld)[0]\n",
    "w_eq = inv_L_sup.subs(Ls,L)\n",
    "W = sm.solve(w_eq,rw)[0]\n",
    "L = L.subs(rw,W)\n",
    "nom_w = W * P\n",
    "\n",
    "# c. print\n",
    "print(\"With these set of equations we have the following equilibriums:\" +\n",
    "      f\"\\nGoods market: Q* = {Q}, p* = {P}\" +\n",
    "      f\"\\nLabor market: L* = {L:.1f}, rw* = {W:.2f}, nw* = {nom_w:.1f}\")\n"
   ]
  },
  {
   "attachments": {},
   "cell_type": "markdown",
   "metadata": {},
   "source": [
    "Now, we have to test if this happens in our model."
   ]
  },
  {
   "attachments": {},
   "cell_type": "markdown",
   "metadata": {},
   "source": [
    "## Numerical solution"
   ]
  },
  {
   "cell_type": "code",
   "execution_count": null,
   "metadata": {},
   "outputs": [],
   "source": [
    "p_dem_func = lambda x: 55 - 2*x\n",
    "p_sup_func = lambda x: 2*x\n",
    "rw_dem_func = lambda x: 2.16 - 0.08*x\n",
    "rw_sup_func = lambda x: 0.08*x + 0.16\n",
    "\n",
    "n_days = 150\n",
    "initial_w = 10\n",
    "initial_p = 10\n",
    "\n",
    "\n",
    "plot_func(p_dem_func, p_sup_func,initial_p, rw_dem_func, rw_sup_func, initial_w, n_days, n_persons=25, n_firms=25)"
   ]
  },
  {
   "cell_type": "code",
   "execution_count": null,
   "metadata": {},
   "outputs": [],
   "source": [
    "interact()"
   ]
  },
  {
   "attachments": {},
   "cell_type": "markdown",
   "metadata": {},
   "source": [
    "# Further analysis"
   ]
  },
  {
   "attachments": {},
   "cell_type": "markdown",
   "metadata": {},
   "source": [
    "We tried to make an extension to give cash and stock constraints to the agents, but it failed, since in all cases, the persons would keep all of the money of the firms. We believe that a more rational firm agent would probably work better (for example, setting its maximum price to the average cost, so they never get losses). But on the other side, this could lead to the firms getting all the cash, since this is a closed economy.\n",
    "\n",
    "We are too working on the interactive part of the model to create more good predictions."
   ]
  },
  {
   "cell_type": "code",
   "execution_count": null,
   "metadata": {},
   "outputs": [],
   "source": [
    "?economy_simulation"
   ]
  },
  {
   "attachments": {},
   "cell_type": "markdown",
   "metadata": {},
   "source": [
    "# Conclusion"
   ]
  },
  {
   "attachments": {},
   "cell_type": "markdown",
   "metadata": {},
   "source": [
    "Our agent-based model can converge to the equilibriums of both markets in a very precise way, even though it is way more ineffient than just computing the formulas. Either way, this shows how individual, uncoordinated actions can lead to a coordinated result. Moreover, the interactive part between the goods market and the labor market give a better prediction of our model by displaying in which direction the price, nominal and real wage converge by changing certain variables that affect the equilibrium outcome of the two markets."
   ]
  }
 ],
 "metadata": {
  "kernelspec": {
   "display_name": "base",
   "language": "python",
   "name": "python3"
  },
  "language_info": {
   "codemirror_mode": {
    "name": "ipython",
    "version": 3
   },
   "file_extension": ".py",
   "mimetype": "text/x-python",
   "name": "python",
   "nbconvert_exporter": "python",
   "pygments_lexer": "ipython3",
   "version": "3.9.16"
  },
  "toc-autonumbering": true,
  "vscode": {
   "interpreter": {
    "hash": "47ef90cdf3004d3f859f1fb202523c65c07ba7c22eefd261b181f4744e2d0403"
   }
  }
 },
 "nbformat": 4,
 "nbformat_minor": 4
}
