{
 "cells": [
  {
   "cell_type": "markdown",
   "metadata": {},
   "source": [
    "# YOUR PROJECT TITLE"
   ]
  },
  {
   "attachments": {},
   "cell_type": "markdown",
   "metadata": {},
   "source": [
    "> **Note the following:** \n",
    "> 1. This is *not* meant to be an example of an actual **data analysis project**, just an example of how to structure such a project.\n",
    "> 1. Remember the general advice on structuring and commenting your code\n",
    "> 1. The `dataproject.py` file includes a function which can be used multiple times in this notebook."
   ]
  },
  {
   "cell_type": "markdown",
   "metadata": {},
   "source": [
    "Imports and set magics:"
   ]
  },
  {
   "cell_type": "code",
   "execution_count": 82,
   "metadata": {},
   "outputs": [
    {
     "name": "stdout",
     "output_type": "stream",
     "text": [
      "The autoreload extension is already loaded. To reload it, use:\n",
      "  %reload_ext autoreload\n"
     ]
    }
   ],
   "source": [
    "# import packages\n",
    "import pandas as pd\n",
    "import numpy as np\n",
    "import matplotlib.pyplot as plt\n",
    "import ipywidgets as widgets\n",
    "from pandas_datareader import wb\n",
    "\n",
    "# autoreload modules when code is run\n",
    "%load_ext autoreload\n",
    "%autoreload 2\n",
    "\n",
    "\n",
    "# user written modules\n",
    "from plot_function import *\n"
   ]
  },
  {
   "attachments": {},
   "cell_type": "markdown",
   "metadata": {},
   "source": [
    "# Introduction"
   ]
  },
  {
   "attachments": {},
   "cell_type": "markdown",
   "metadata": {},
   "source": [
    "In this project we would like to analyse the impacts of net migration on 4 different variables: GDP, employment rate, labour force and wage. We took on this project because migration is a big debate in the majority of rich countries, and especially with the rise of the far-right in Europe.\n",
    "\n",
    "We chose to study the USA, since it is a net imigration country, and Romania, since it is a net emigration country. We decided to use the data from 1991 - the first year we had all information - until 2019, to not take into account the pandemic. "
   ]
  },
  {
   "cell_type": "markdown",
   "metadata": {},
   "source": [
    "# Read and clean data"
   ]
  },
  {
   "cell_type": "markdown",
   "metadata": {},
   "source": [
    "Import your data, either through an API or manually, and load it. "
   ]
  },
  {
   "cell_type": "code",
   "execution_count": 83,
   "metadata": {},
   "outputs": [],
   "source": [
    "#setup period\n",
    "start_year = 1991\n",
    "end_year = 2019\n",
    "\n",
    "#download net migration data from the World Bank\n",
    "wb_migration = wb.download(indicator='SM.POP.NETM', country=[ 'USA', 'ROU'], start=start_year, end=end_year)\n",
    "\n",
    "#rename the column\n",
    "wb_migration = wb_migration.rename(columns = {'SM.POP.NETM':'net migration'})\n",
    "\n",
    "#reset data\n",
    "wb_migration = wb_migration.reset_index()\n",
    "\n",
    "#convert year from an object to an integral type\n",
    "wb_migration.year = wb_migration.year.astype(int) \n",
    "\n",
    "#convert country from an object to a string type\n",
    "wb_migration.country = wb_migration.country.astype('string') \n"
   ]
  },
  {
   "cell_type": "code",
   "execution_count": 131,
   "metadata": {},
   "outputs": [],
   "source": [
    "#load data\n",
    "wb_migration.to_csv('migration.csv', index=False)"
   ]
  },
  {
   "cell_type": "code",
   "execution_count": 85,
   "metadata": {},
   "outputs": [],
   "source": [
    "#download labour force data from the World Bank\n",
    "wb_labour = wb.download(indicator='SL.TLF.TOTL.IN', country=[ 'USA', 'ROU'], start=start_year, end=end_year)\n",
    "\n",
    "#rename the column\n",
    "wb_labour = wb_labour.rename(columns = {'SL.TLF.TOTL.IN':'labor_force'})\n",
    "\n",
    "#reset data\n",
    "wb_labour = wb_labour.reset_index()\n",
    "\n",
    "#convert year from an object to an integral type\n",
    "wb_labour.year = wb_labour.year.astype(int) \n",
    "\n",
    "#convert country from an object to a string type\n",
    "wb_labour.country = wb_labour.country.astype('string') "
   ]
  },
  {
   "cell_type": "code",
   "execution_count": 86,
   "metadata": {},
   "outputs": [],
   "source": [
    "#load data\n",
    "wb_labour.to_csv('labour_force.csv', index=False)"
   ]
  },
  {
   "cell_type": "code",
   "execution_count": 87,
   "metadata": {},
   "outputs": [],
   "source": [
    "#download labour force data from the World Bank\n",
    "wb_gdp = wb.download(indicator='NY.GDP.MKTP.CD', country=[ 'USA', 'ROU'], start=start_year, end=end_year)\n",
    "\n",
    "#rename the column\n",
    "wb_gdp = wb_gdp.rename(columns = {'NY.GDP.MKTP.CD':'gdp'})\n",
    "\n",
    "#reset data\n",
    "wb_gdp = wb_gdp.reset_index()\n",
    "\n",
    "#convert year from an object to an integral type\n",
    "wb_gdp.year = wb_gdp.year.astype(int) \n",
    "\n",
    "#convert country from an object to a string type\n",
    "wb_gdp.country = wb_gdp.country.astype('string') \n"
   ]
  },
  {
   "cell_type": "code",
   "execution_count": 88,
   "metadata": {},
   "outputs": [],
   "source": [
    "#load data\n",
    "wb_gdp.to_csv('gdp.csv', index=False)"
   ]
  },
  {
   "cell_type": "code",
   "execution_count": 89,
   "metadata": {},
   "outputs": [],
   "source": [
    "#download wage data from the World Bank\n",
    "wb_wage = wb.download(indicator='SL.EMP.WORK.ZS', country=[ 'USA', 'ROU'], start=start_year, end=end_year)\n",
    "\n",
    "#rename the column\n",
    "wb_wage = wb_wage.rename(columns = {'SL.EMP.WORK.ZS':'wage'})\n",
    "\n",
    "#reset index\n",
    "wb_wage = wb_wage.reset_index()\n",
    "\n",
    "#convert year from an object to an integral type\n",
    "wb_wage.year = wb_wage.year.astype(int) \n",
    "\n",
    "#convert country from an object to a string type\n",
    "wb_wage.country = wb_wage.country.astype('string') "
   ]
  },
  {
   "cell_type": "code",
   "execution_count": 90,
   "metadata": {},
   "outputs": [],
   "source": [
    "#load data\n",
    "wb_wage.to_csv('wage.csv', index=False)"
   ]
  },
  {
   "cell_type": "code",
   "execution_count": 91,
   "metadata": {},
   "outputs": [],
   "source": [
    "#download employment data from the World Bank\n",
    "wb_employ = wb.download(indicator='SL.EMP.TOTL.SP.ZS', country=[ 'USA', 'ROU'], start=start_year, end=end_year)\n",
    "\n",
    "#rename the column\n",
    "wb_employ = wb_employ.rename(columns = {'SL.EMP.TOTL.SP.ZS':'employment percentage'})\n",
    "\n",
    "#reset index\n",
    "wb_employ = wb_employ.reset_index()\n",
    "\n",
    "#convert year from an object to an integral type\n",
    "wb_employ.year = wb_employ.year.astype(int) \n",
    "\n",
    "#convert country from an object to a string type\n",
    "wb_employ.country = wb_employ.country.astype('string') "
   ]
  },
  {
   "cell_type": "code",
   "execution_count": 92,
   "metadata": {},
   "outputs": [],
   "source": [
    "#load data\n",
    "wb_employ.to_csv('employment_ratio.csv', index=False)"
   ]
  },
  {
   "cell_type": "code",
   "execution_count": 93,
   "metadata": {},
   "outputs": [
    {
     "data": {
      "text/html": [
       "<div>\n",
       "<style scoped>\n",
       "    .dataframe tbody tr th:only-of-type {\n",
       "        vertical-align: middle;\n",
       "    }\n",
       "\n",
       "    .dataframe tbody tr th {\n",
       "        vertical-align: top;\n",
       "    }\n",
       "\n",
       "    .dataframe thead th {\n",
       "        text-align: right;\n",
       "    }\n",
       "</style>\n",
       "<table border=\"1\" class=\"dataframe\">\n",
       "  <thead>\n",
       "    <tr style=\"text-align: right;\">\n",
       "      <th></th>\n",
       "      <th>country</th>\n",
       "      <th>year</th>\n",
       "      <th>net migration</th>\n",
       "      <th>gdp</th>\n",
       "      <th>employment percentage</th>\n",
       "      <th>labor_force</th>\n",
       "      <th>wage</th>\n",
       "    </tr>\n",
       "  </thead>\n",
       "  <tbody>\n",
       "    <tr>\n",
       "      <th>48</th>\n",
       "      <td>United States</td>\n",
       "      <td>2000</td>\n",
       "      <td>1479676</td>\n",
       "      <td>1.025095e+13</td>\n",
       "      <td>63.297001</td>\n",
       "      <td>146165420</td>\n",
       "      <td>92.440002</td>\n",
       "    </tr>\n",
       "    <tr>\n",
       "      <th>10</th>\n",
       "      <td>Romania</td>\n",
       "      <td>2009</td>\n",
       "      <td>-129392</td>\n",
       "      <td>1.741037e+11</td>\n",
       "      <td>50.705002</td>\n",
       "      <td>9338466</td>\n",
       "      <td>67.220001</td>\n",
       "    </tr>\n",
       "    <tr>\n",
       "      <th>42</th>\n",
       "      <td>United States</td>\n",
       "      <td>2006</td>\n",
       "      <td>1113259</td>\n",
       "      <td>1.381559e+13</td>\n",
       "      <td>61.921001</td>\n",
       "      <td>154153998</td>\n",
       "      <td>92.599998</td>\n",
       "    </tr>\n",
       "    <tr>\n",
       "      <th>43</th>\n",
       "      <td>United States</td>\n",
       "      <td>2005</td>\n",
       "      <td>1129462</td>\n",
       "      <td>1.303920e+13</td>\n",
       "      <td>61.515999</td>\n",
       "      <td>152044687</td>\n",
       "      <td>92.529999</td>\n",
       "    </tr>\n",
       "    <tr>\n",
       "      <th>21</th>\n",
       "      <td>Romania</td>\n",
       "      <td>1998</td>\n",
       "      <td>-89939</td>\n",
       "      <td>4.169412e+10</td>\n",
       "      <td>61.435001</td>\n",
       "      <td>11808407</td>\n",
       "      <td>57.939999</td>\n",
       "    </tr>\n",
       "    <tr>\n",
       "      <th>46</th>\n",
       "      <td>United States</td>\n",
       "      <td>2002</td>\n",
       "      <td>1168499</td>\n",
       "      <td>1.092911e+13</td>\n",
       "      <td>61.548000</td>\n",
       "      <td>148166545</td>\n",
       "      <td>92.639999</td>\n",
       "    </tr>\n",
       "    <tr>\n",
       "      <th>3</th>\n",
       "      <td>Romania</td>\n",
       "      <td>2016</td>\n",
       "      <td>-64002</td>\n",
       "      <td>1.852869e+11</td>\n",
       "      <td>50.550999</td>\n",
       "      <td>8915255</td>\n",
       "      <td>73.389999</td>\n",
       "    </tr>\n",
       "    <tr>\n",
       "      <th>47</th>\n",
       "      <td>United States</td>\n",
       "      <td>2001</td>\n",
       "      <td>1335725</td>\n",
       "      <td>1.058193e+13</td>\n",
       "      <td>62.519001</td>\n",
       "      <td>147200478</td>\n",
       "      <td>92.519997</td>\n",
       "    </tr>\n",
       "    <tr>\n",
       "      <th>1</th>\n",
       "      <td>Romania</td>\n",
       "      <td>2018</td>\n",
       "      <td>-57865</td>\n",
       "      <td>2.433171e+11</td>\n",
       "      <td>52.675999</td>\n",
       "      <td>8999055</td>\n",
       "      <td>74.779999</td>\n",
       "    </tr>\n",
       "    <tr>\n",
       "      <th>31</th>\n",
       "      <td>United States</td>\n",
       "      <td>2017</td>\n",
       "      <td>1377630</td>\n",
       "      <td>1.947734e+13</td>\n",
       "      <td>59.590000</td>\n",
       "      <td>163971525</td>\n",
       "      <td>93.750000</td>\n",
       "    </tr>\n",
       "  </tbody>\n",
       "</table>\n",
       "</div>"
      ],
      "text/plain": [
       "          country  year  net migration           gdp  employment percentage  \\\n",
       "48  United States  2000        1479676  1.025095e+13              63.297001   \n",
       "10        Romania  2009        -129392  1.741037e+11              50.705002   \n",
       "42  United States  2006        1113259  1.381559e+13              61.921001   \n",
       "43  United States  2005        1129462  1.303920e+13              61.515999   \n",
       "21        Romania  1998         -89939  4.169412e+10              61.435001   \n",
       "46  United States  2002        1168499  1.092911e+13              61.548000   \n",
       "3         Romania  2016         -64002  1.852869e+11              50.550999   \n",
       "47  United States  2001        1335725  1.058193e+13              62.519001   \n",
       "1         Romania  2018         -57865  2.433171e+11              52.675999   \n",
       "31  United States  2017        1377630  1.947734e+13              59.590000   \n",
       "\n",
       "    labor_force       wage  \n",
       "48    146165420  92.440002  \n",
       "10      9338466  67.220001  \n",
       "42    154153998  92.599998  \n",
       "43    152044687  92.529999  \n",
       "21     11808407  57.939999  \n",
       "46    148166545  92.639999  \n",
       "3       8915255  73.389999  \n",
       "47    147200478  92.519997  \n",
       "1       8999055  74.779999  \n",
       "31    163971525  93.750000  "
      ]
     },
     "execution_count": 93,
     "metadata": {},
     "output_type": "execute_result"
    }
   ],
   "source": [
    "#merge the two data\n",
    "var_list = [wb_gdp, wb_employ, wb_labour, wb_wage]\n",
    "\n",
    "wb = wb_migration\n",
    "\n",
    "for i in var_list:\n",
    "    wb = pd.merge(wb, i, how = 'outer', on = ['country','year']);\n",
    "\n",
    "wb.sample(10)"
   ]
  },
  {
   "cell_type": "markdown",
   "metadata": {},
   "source": [
    "## Explore each data set"
   ]
  },
  {
   "cell_type": "markdown",
   "metadata": {},
   "source": [
    "In order to be able to **explore the raw data**, you may provide **static** and **interactive plots** to show important developments "
   ]
  },
  {
   "cell_type": "code",
   "execution_count": 94,
   "metadata": {},
   "outputs": [
    {
     "data": {
      "application/vnd.jupyter.widget-view+json": {
       "model_id": "bd7f8134af914646ac28635fd4441a70",
       "version_major": 2,
       "version_minor": 0
      },
      "text/plain": [
       "interactive(children=(Dropdown(description='Country:', options=('Romania', 'United States'), value='Romania'),…"
      ]
     },
     "metadata": {},
     "output_type": "display_data"
    }
   ],
   "source": [
    "#creation of a plot with two y-axis\n",
    "def plot_func(country, data):\n",
    "    country_data = wb[wb['country'] == country]\n",
    "    fig, ax1 = plt.subplots()\n",
    "\n",
    "    color = 'tab:blue'\n",
    "    ax1.set_xlabel('Year')\n",
    "    ax1.set_ylabel('Net migration', color=color)\n",
    "    ax1.plot(country_data['year'], country_data['net migration'], color=color)\n",
    "    \n",
    "\n",
    "    ax2 = ax1.twinx()  \n",
    "\n",
    "    color = 'tab:purple'\n",
    "    ax2.set_ylabel(str(data), color=color)  \n",
    "    ax2.plot(country_data['year'], country_data[data], color=color)\n",
    "\n",
    "\n",
    "    plt.title(f'{country} Net Migration and gdp over Time')\n",
    "    fig.tight_layout()  \n",
    "    plt.show()\n",
    "\n",
    "#create of two dropdown\n",
    "country_widget = widgets.Dropdown(options=wb['country'].unique(), description='Country:')\n",
    "data_list=wb.columns.tolist()[3:]\n",
    "data_widget = widgets.Dropdown(options=data_list, description='Data:')\n",
    "\n",
    "#create an interactive plot\n",
    "widgets.interact(plot_func, country=country_widget, data=data_widget);\n"
   ]
  },
  {
   "cell_type": "code",
   "execution_count": 95,
   "metadata": {},
   "outputs": [
    {
     "data": {
      "application/vnd.jupyter.widget-view+json": {
       "model_id": "305cb589c9e84da3a4dc3580c162a047",
       "version_major": 2,
       "version_minor": 0
      },
      "text/plain": [
       "interactive(children=(Dropdown(description='Country:', options=('Romania', 'United States'), value='Romania'),…"
      ]
     },
     "metadata": {},
     "output_type": "display_data"
    }
   ],
   "source": [
    "#creation of a scatter plot\n",
    "def scatter_func(country, data):\n",
    "    country_data = wb[wb['country'] == country]\n",
    "    fig, ax1 = plt.subplots()\n",
    "\n",
    "    color = 'tab:blue'\n",
    "    ax1.set_xlabel('Net migration')\n",
    "    ax1.set_ylabel(str(data), color=color)\n",
    "    ax1.scatter(country_data['net migration'], country_data[data], color=color)\n",
    "    \n",
    "    slope, intercept = np.polyfit(country_data['net migration'],country_data[data],1)\n",
    "    ax1.plot(country_data['net migration'],country_data['net migration']*slope+intercept)\n",
    "\n",
    "    plt.title(f'{country} Net Migration and data over Time')\n",
    "    fig.tight_layout()  \n",
    "    plt.show()\n",
    "\n",
    "#create of two dropdown\n",
    "country_widget = widgets.Dropdown(options=wb['country'].unique(), description='Country:')\n",
    "data_list=wb.columns.tolist()[3:]\n",
    "data_widget = widgets.Dropdown(options=data_list, description='Data:')\n",
    "\n",
    "#create an interactive plot\n",
    "widgets.interact(scatter_func, country=country_widget, data=data_widget);"
   ]
  },
  {
   "cell_type": "markdown",
   "metadata": {},
   "source": [
    "**Interactive plot** :"
   ]
  },
  {
   "cell_type": "markdown",
   "metadata": {},
   "source": [
    "Explain what you see when moving elements of the interactive plot around. "
   ]
  },
  {
   "cell_type": "markdown",
   "metadata": {},
   "source": [
    "# Merge data sets"
   ]
  },
  {
   "cell_type": "markdown",
   "metadata": {},
   "source": [
    "Here we are dropping elements from both data set X and data set Y. A left join would keep all observations in data X intact and subset only from Y. \n",
    "\n",
    "Make sure that your resulting data sets have the correct number of rows and columns. That is, be clear about which observations are thrown away. \n",
    "\n",
    "**Note:** Don't make Venn diagrams in your own data project. It is just for exposition. "
   ]
  },
  {
   "cell_type": "markdown",
   "metadata": {},
   "source": [
    "# Analysis"
   ]
  },
  {
   "cell_type": "code",
   "execution_count": 130,
   "metadata": {},
   "outputs": [
    {
     "data": {
      "text/html": [
       "<div>\n",
       "<style scoped>\n",
       "    .dataframe tbody tr th:only-of-type {\n",
       "        vertical-align: middle;\n",
       "    }\n",
       "\n",
       "    .dataframe tbody tr th {\n",
       "        vertical-align: top;\n",
       "    }\n",
       "\n",
       "    .dataframe thead th {\n",
       "        text-align: right;\n",
       "    }\n",
       "</style>\n",
       "<table border=\"1\" class=\"dataframe\">\n",
       "  <thead>\n",
       "    <tr style=\"text-align: right;\">\n",
       "      <th></th>\n",
       "      <th></th>\n",
       "      <th>gdp</th>\n",
       "      <th>employment percentage</th>\n",
       "      <th>labor_force</th>\n",
       "      <th>wage</th>\n",
       "    </tr>\n",
       "    <tr>\n",
       "      <th>country</th>\n",
       "      <th>measure</th>\n",
       "      <th></th>\n",
       "      <th></th>\n",
       "      <th></th>\n",
       "      <th></th>\n",
       "    </tr>\n",
       "  </thead>\n",
       "  <tbody>\n",
       "    <tr>\n",
       "      <th rowspan=\"2\" valign=\"top\">United States</th>\n",
       "      <th>corr</th>\n",
       "      <td>-0.670</td>\n",
       "      <td>0.376</td>\n",
       "      <td>-0.748</td>\n",
       "      <td>-0.689</td>\n",
       "    </tr>\n",
       "    <tr>\n",
       "      <th>R^2 (%)</th>\n",
       "      <td>45</td>\n",
       "      <td>14</td>\n",
       "      <td>56</td>\n",
       "      <td>48</td>\n",
       "    </tr>\n",
       "    <tr>\n",
       "      <th rowspan=\"2\" valign=\"top\">Romania</th>\n",
       "      <th>corr</th>\n",
       "      <td>0.251</td>\n",
       "      <td>0.060</td>\n",
       "      <td>-0.105</td>\n",
       "      <td>0.378</td>\n",
       "    </tr>\n",
       "    <tr>\n",
       "      <th>R^2 (%)</th>\n",
       "      <td>6</td>\n",
       "      <td>0</td>\n",
       "      <td>1</td>\n",
       "      <td>14</td>\n",
       "    </tr>\n",
       "  </tbody>\n",
       "</table>\n",
       "</div>"
      ],
      "text/plain": [
       "                          gdp employment percentage labor_force    wage\n",
       "country       measure                                                  \n",
       "United States corr     -0.670                 0.376      -0.748  -0.689\n",
       "              R^2 (%)      45                    14          56      48\n",
       "Romania       corr      0.251                 0.060      -0.105   0.378\n",
       "              R^2 (%)       6                     0           1      14"
      ]
     },
     "execution_count": 130,
     "metadata": {},
     "output_type": "execute_result"
    }
   ],
   "source": [
    "wb_US = wb[wb[\"country\"] == \"United States\"]\n",
    "wb_Rom = wb[wb[\"country\"] == \"Romania\"]\n",
    "\n",
    "var_list = [\"gdp\", \"employment percentage\", \"labor_force\", \"wage\"]\n",
    "\n",
    "dict_var = {\"country\":[\"United States\", \"United States\", \"Romania\", \"Romania\"], \"measure\":[\"corr\",\"R^2 (%)\",\"corr\",\"R^2 (%)\"]}\n",
    "\n",
    "for data in var_list:\n",
    "    US_data = wb_US[\"net migration\"].corr(wb_US[data])\n",
    "    Rom_data = wb_Rom[\"net migration\"].corr(wb_Rom[data])\n",
    "\n",
    "    dict_var[data] = [f\"{US_data:.3f}\" , f\"{100 * US_data**2:.0f}\", f\"{Rom_data:.3f}\", f\"{100 * Rom_data**2:.0f}\"]\n",
    "\n",
    "\n",
    "corr_table = pd.DataFrame(dict_var).set_index([\"country\",\"measure\"])\n",
    "corr_table"
   ]
  },
  {
   "attachments": {},
   "cell_type": "markdown",
   "metadata": {},
   "source": [
    "As we can see, our correlation results about GDP are inconclusive, since the US has a negative correlation, meaning that an increase in net migration is normally accompanied by a decrease in GDP, while Romania has a small, but positive correlation, showing the opposite effect. The coefficient of determination of Romania is really small, meaning the variation of the net migration rate can only explain 6% of the variation in the GDP. On the other hand, the US's net migration rate can explain 45% of the GDP variation.\n",
    "\n",
    "The employment percentage between both countries have a posisitive correlation, although very small in both, meaning an increase of the net migration rate, the employment rate increases too. But, this correlation only explains 14% of the variation in the US and 0% of the variation in Romania, therefore not being correlated.\n",
    "\n",
    "Labor force in both countries has a negative correlation, meaning a bigger net migration rate causes a negative influence in the labor force in a country. In the US, the variation in the net migration rate explains 56% of the variation in the labor force, while in Romania, it only explains 1%.\n",
    "\n",
    "Finally, the wage in both countries has a inconclusive correlation. The United States show a negative correlation, meaning a bigger net migration rate decreases wage, while the opposite happens in Romania. In the US, the wage variation can only be explained by 48% of the variation in the net migration rate, while in Romania, it only explains 14%."
   ]
  },
  {
   "attachments": {},
   "cell_type": "markdown",
   "metadata": {},
   "source": []
  },
  {
   "cell_type": "markdown",
   "metadata": {},
   "source": [
    "# Conclusion"
   ]
  },
  {
   "attachments": {},
   "cell_type": "markdown",
   "metadata": {},
   "source": [
    "We can conlude that net migration rate does not explain much of GDP, employment, labor force and wage in the US and in Romania. Therefore, it is not a good way of predicting all of those variables, and other variables might be more closely related to them.\n",
    "\n",
    "The labor force in the US has the best correlation with net migration, of 56%, but even then we can't sustain the claim that migration is bad, since correlation is not causation."
   ]
  }
 ],
 "metadata": {
  "kernelspec": {
   "display_name": "base",
   "language": "python",
   "name": "python3"
  },
  "language_info": {
   "codemirror_mode": {
    "name": "ipython",
    "version": 3
   },
   "file_extension": ".py",
   "mimetype": "text/x-python",
   "name": "python",
   "nbconvert_exporter": "python",
   "pygments_lexer": "ipython3",
   "version": "3.9.16"
  },
  "toc-autonumbering": true,
  "vscode": {
   "interpreter": {
    "hash": "5c915df45f1df280effe0598c7cf6b3f07ab3d9f1f2220bd3cbb74ebf26794f0"
   }
  }
 },
 "nbformat": 4,
 "nbformat_minor": 4
}
