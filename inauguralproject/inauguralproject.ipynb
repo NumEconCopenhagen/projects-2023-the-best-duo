{
 "cells": [
  {
   "cell_type": "markdown",
   "metadata": {},
   "source": [
    "# Inaugural Project"
   ]
  },
  {
   "attachments": {},
   "cell_type": "markdown",
   "metadata": {},
   "source": [
    "> **Note the following:** \n",
    "> 1. This is an example of how to structure your **inaugural project**.\n",
    "> 1. Remember the general advice on structuring and commenting your code\n",
    "> 1. The `inauguralproject.py` file includes a function which can be used multiple times in this notebook."
   ]
  },
  {
   "cell_type": "markdown",
   "metadata": {},
   "source": [
    "Imports and set magics:"
   ]
  },
  {
   "cell_type": "code",
   "execution_count": 6,
   "metadata": {},
   "outputs": [
    {
     "name": "stdout",
     "output_type": "stream",
     "text": [
      "The autoreload extension is already loaded. To reload it, use:\n",
      "  %reload_ext autoreload\n"
     ]
    }
   ],
   "source": [
    "import numpy as np\n",
    "\n",
    "from HouseholdSpecializationModel import HouseholdSpecializationModelClass\n",
    "# autoreload modules when code is run. Otherwise, python will not see recent changes. \n",
    "%load_ext autoreload\n",
    "%autoreload 2\n",
    "\n",
    "# Import your own code\n",
    "import inauguralproject"
   ]
  },
  {
   "cell_type": "markdown",
   "metadata": {},
   "source": [
    "# Question 1"
   ]
  },
  {
   "cell_type": "markdown",
   "metadata": {},
   "source": [
    "**Explain how you solve the model**"
   ]
  },
  {
   "cell_type": "code",
   "execution_count": 27,
   "metadata": {},
   "outputs": [
    {
     "name": "stdout",
     "output_type": "stream",
     "text": [
      "6.0 3.0 2.0\n",
      "7.0 1.5 4.666666666666667\n",
      "7.5 1.0 7.5\n",
      "6.5 2.0 3.25\n",
      "7.5 1.0 7.5\n",
      "8.0 0.5 16.0\n",
      "8.0 0.5 16.0\n",
      "8.0 0.0 inf\n",
      "8.0 0.0 inf\n"
     ]
    },
    {
     "name": "stderr",
     "output_type": "stream",
     "text": [
      "c:\\Users\\lmigu\\OneDrive\\Documentos\\Uni\\Semestre 4 (Erasmus)\\Programming\\coding\\projects-2023-the-best-duo\\inauguralproject\\HouseholdSpecializationModel.py:64: RuntimeWarning: invalid value encountered in add\n",
      "  H = ((1-par.alpha)*HM**((par.sigma-1)/par.sigma)\n",
      "c:\\Users\\lmigu\\OneDrive\\Documentos\\Uni\\Semestre 4 (Erasmus)\\Programming\\coding\\projects-2023-the-best-duo\\inauguralproject\\HouseholdSpecializationModel.py:68: RuntimeWarning: invalid value encountered in sqrt\n",
      "  \n"
     ]
    },
    {
     "name": "stdout",
     "output_type": "stream",
     "text": [
      "5.0 0.5 10.0\n"
     ]
    },
    {
     "name": "stderr",
     "output_type": "stream",
     "text": [
      "c:\\Users\\lmigu\\OneDrive\\Documentos\\Uni\\Semestre 4 (Erasmus)\\Programming\\coding\\projects-2023-the-best-duo\\inauguralproject\\HouseholdSpecializationModel.py:61: RuntimeWarning: divide by zero encountered in power\n",
      "  H = HM**(1-par.alpha) * HF**par.alpha\n",
      "c:\\Users\\lmigu\\OneDrive\\Documentos\\Uni\\Semestre 4 (Erasmus)\\Programming\\coding\\projects-2023-the-best-duo\\inauguralproject\\HouseholdSpecializationModel.py:61: RuntimeWarning: invalid value encountered in multiply\n",
      "  H = HM**(1-par.alpha) * HF**par.alpha\n",
      "c:\\Users\\lmigu\\OneDrive\\Documentos\\Uni\\Semestre 4 (Erasmus)\\Programming\\coding\\projects-2023-the-best-duo\\inauguralproject\\HouseholdSpecializationModel.py:68: RuntimeWarning: invalid value encountered in multiply\n",
      "  \n"
     ]
    },
    {
     "name": "stdout",
     "output_type": "stream",
     "text": [
      "0.5 0.0 inf\n",
      "7.5 0.0 inf\n",
      "3.0 0.5 6.0\n",
      "0.5 0.0 inf\n",
      "7.5 0.0 inf\n"
     ]
    }
   ],
   "source": [
    "# code for solving the model (remember documentation and comments)\n",
    "\n",
    "#a = np.array([1,2,3])\n",
    "#b = inauguralproject.square(a)\n",
    "#print(b)\n",
    "\n",
    "#testing the household production function\n",
    "model = HouseholdSpecializationModelClass()\n",
    "model.calc_utility(12, 12, 12, 12) #confirmed when sigma = 1\n",
    "model.par.sigma = 0.0\n",
    "model.calc_utility(12,12,12,12) #confirmed with sigma = 0\n",
    "model.par.sigma = 0.5\n",
    "model.calc_utility(12,12,12,12) #confirmed with sigma = 0.5\n",
    "\n",
    "#trying to solve\n",
    "# 1. Setup\n",
    "alpha_vec = np.linspace(0.8,1.2,5)\n",
    "sigma_vec = np.linspace(0.5,1.5,3)\n",
    "sol_array = np.zeros((len(alpha_vec),len(sigma_vec)))\n",
    "\n",
    "# 2. Creating the solution\n",
    "for alp_i in range(len(alpha_vec)):\n",
    "    for sig_i in range(len(sigma_vec)):\n",
    "        model.par.alpha = alpha_vec[alp_i]\n",
    "        model.par.sigma = sigma_vec[sig_i]\n",
    "        \n",
    "        opt = model.solve_discrete()\n",
    "\n",
    "        # We have to filter out whenever HM is 0 (would be infinite)\n",
    "        if opt.HM == 0:\n",
    "            ratio = np.inf\n",
    "        \n",
    "        else:\n",
    "            ratio = opt.HF / opt.HM\n",
    "        \n",
    "        print(opt.HF, opt.HM, ratio)\n",
    "\n",
    "        \n",
    "\n",
    "\n",
    "\n",
    "\n",
    "\n",
    "        \n"
   ]
  },
  {
   "cell_type": "markdown",
   "metadata": {},
   "source": [
    "# Question 2"
   ]
  },
  {
   "cell_type": "markdown",
   "metadata": {},
   "source": [
    "Explain your code and procedure"
   ]
  },
  {
   "cell_type": "code",
   "execution_count": 4,
   "metadata": {},
   "outputs": [],
   "source": [
    "# code"
   ]
  },
  {
   "cell_type": "markdown",
   "metadata": {},
   "source": [
    "# Question 3"
   ]
  },
  {
   "cell_type": "markdown",
   "metadata": {},
   "source": [
    "Explain your code and procedure"
   ]
  },
  {
   "cell_type": "code",
   "execution_count": 5,
   "metadata": {},
   "outputs": [],
   "source": [
    "# code"
   ]
  },
  {
   "cell_type": "markdown",
   "metadata": {},
   "source": [
    "ADD CONCISE CONLUSION."
   ]
  }
 ],
 "metadata": {
  "kernelspec": {
   "display_name": "base",
   "language": "python",
   "name": "python3"
  },
  "language_info": {
   "codemirror_mode": {
    "name": "ipython",
    "version": 3
   },
   "file_extension": ".py",
   "mimetype": "text/x-python",
   "name": "python",
   "nbconvert_exporter": "python",
   "pygments_lexer": "ipython3",
   "version": "3.9.16"
  },
  "toc-autonumbering": true,
  "vscode": {
   "interpreter": {
    "hash": "47ef90cdf3004d3f859f1fb202523c65c07ba7c22eefd261b181f4744e2d0403"
   }
  }
 },
 "nbformat": 4,
 "nbformat_minor": 4
}
