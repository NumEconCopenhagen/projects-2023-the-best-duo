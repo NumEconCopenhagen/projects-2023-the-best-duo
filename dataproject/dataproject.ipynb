{
 "cells": [
  {
   "attachments": {},
   "cell_type": "markdown",
   "metadata": {},
   "source": [
    "# Study case: The affect of net migration on the US and Romania"
   ]
  },
  {
   "attachments": {},
   "cell_type": "markdown",
   "metadata": {},
   "source": [
    "Imports and set magics:"
   ]
  },
  {
   "cell_type": "code",
   "execution_count": 8,
   "metadata": {},
   "outputs": [
    {
     "name": "stdout",
     "output_type": "stream",
     "text": [
      "The autoreload extension is already loaded. To reload it, use:\n",
      "  %reload_ext autoreload\n"
     ]
    }
   ],
   "source": [
    "# a. import packages\n",
    "import pandas as pd\n",
    "import numpy as np\n",
    "import matplotlib.pyplot as plt\n",
    "import ipywidgets as widgets\n",
    "from pandas_datareader import wb\n",
    "\n",
    "# b. autoreload modules when code is run\n",
    "%load_ext autoreload\n",
    "%autoreload 2\n",
    "\n",
    "# c. user written modules\n",
    "from plot_function import *\n"
   ]
  },
  {
   "attachments": {},
   "cell_type": "markdown",
   "metadata": {},
   "source": [
    "# Introduction"
   ]
  },
  {
   "attachments": {},
   "cell_type": "markdown",
   "metadata": {},
   "source": [
    "In this project we would like to analyse the impacts of net migration on 4 different variables: GDP, employment rate, labour force and wage. We took on this project because migration is a big debate in the majority of rich countries, and especially with the rise of the far-right in Europe.\n",
    "\n",
    "We chose to study the USA, since it is a net imigration country, and Romania, since it is a net emigration country. We decided to use the data from 1991 - the first year we had all information - until 2019, to not take into account the pandemic. "
   ]
  },
  {
   "attachments": {},
   "cell_type": "markdown",
   "metadata": {},
   "source": [
    "# Read and clean data"
   ]
  },
  {
   "cell_type": "code",
   "execution_count": 9,
   "metadata": {},
   "outputs": [],
   "source": [
    "#setup period\n",
    "start_year = 1991\n",
    "end_year = 2019"
   ]
  },
  {
   "attachments": {},
   "cell_type": "markdown",
   "metadata": {},
   "source": [
    "We downloaded each dataframe and renamed the variable."
   ]
  },
  {
   "cell_type": "code",
   "execution_count": 10,
   "metadata": {},
   "outputs": [],
   "source": [
    "# a. migration\n",
    "df_migration = wb.download(indicator='SM.POP.NETM', country=[ 'USA', 'ROU'], start=start_year, end=end_year)\n",
    "df_migration = df_migration.rename(columns = {'SM.POP.NETM':'Net Migration'})\n",
    "\n",
    "# b. GDP\n",
    "df_gdp = wb.download(indicator='NY.GDP.MKTP.CD', country=[ 'USA', 'ROU'], start=start_year, end=end_year)\n",
    "df_gdp = df_gdp.rename(columns = {'NY.GDP.MKTP.CD':'GDP'})\n",
    "\n",
    "# c. employment rate\n",
    "df_employ = wb.download(indicator='SL.EMP.TOTL.SP.ZS', country=[ 'USA', 'ROU'], start=start_year, end=end_year)\n",
    "df_employ = df_employ.rename(columns = {'SL.EMP.TOTL.SP.ZS':'Employment Rate'})\n",
    "\n",
    "# d. labor force\n",
    "df_labour = wb.download(indicator='SL.TLF.TOTL.IN', country=[ 'USA', 'ROU'], start=start_year, end=end_year)\n",
    "df_labour = df_labour.rename(columns = {'SL.TLF.TOTL.IN':'Labor Force'})\n",
    "\n",
    "# e. wage\n",
    "df_wage = wb.download(indicator='SL.EMP.WORK.ZS', country=[ 'USA', 'ROU'], start=start_year, end=end_year)\n",
    "df_wage = df_wage.rename(columns = {'SL.EMP.WORK.ZS':'Wage'})\n",
    "\n",
    "# f. resetting indexes and column type\n",
    "df_migration = df_migration.reset_index().astype({'year': int, 'country': 'string'})\n",
    "df_gdp = df_gdp.reset_index().astype({'year': int, 'country': 'string'})\n",
    "df_employ = df_employ.reset_index().astype({'year': int, 'country': 'string'})\n",
    "df_labour = df_labour.reset_index().astype({'year': int, 'country': 'string'})\n",
    "df_wage = df_wage.reset_index().astype({'year': int, 'country': 'string'})"
   ]
  },
  {
   "cell_type": "code",
   "execution_count": 11,
   "metadata": {},
   "outputs": [],
   "source": [
    "# a. create a list with the dataframes\n",
    "df_list = [df_gdp, df_employ, df_labour, df_wage]\n",
    "\n",
    "\n",
    "# b. merge all dataframes together\n",
    "df = df_migration\n",
    "\n",
    "for dtf in df_list:\n",
    "    df = pd.merge(df, dtf, how = 'outer', on = ['country','year'],)\n"
   ]
  },
  {
   "attachments": {},
   "cell_type": "markdown",
   "metadata": {},
   "source": [
    "## Explore each data set"
   ]
  },
  {
   "attachments": {},
   "cell_type": "markdown",
   "metadata": {},
   "source": [
    "In our first interactive graph we decided to plot net migration and other data for each country to see a common trend."
   ]
  },
  {
   "cell_type": "code",
   "execution_count": 12,
   "metadata": {},
   "outputs": [
    {
     "data": {
      "application/vnd.jupyter.widget-view+json": {
       "model_id": "490a9a4c5597489a967f4c88dcedce67",
       "version_major": 2,
       "version_minor": 0
      },
      "text/plain": [
       "interactive(children=(Dropdown(description='Country:', options=('Romania', 'United States'), value='Romania'),…"
      ]
     },
     "metadata": {},
     "output_type": "display_data"
    }
   ],
   "source": [
    "# a. plot\n",
    "plot(df,plot_func)"
   ]
  },
  {
   "attachments": {},
   "cell_type": "markdown",
   "metadata": {},
   "source": [
    "As we can already, some graphs seem to have no correlation at all."
   ]
  },
  {
   "attachments": {},
   "cell_type": "markdown",
   "metadata": {},
   "source": [
    "After, we decided to make a scatter plot with the net migration against other data in a specific country."
   ]
  },
  {
   "cell_type": "code",
   "execution_count": 13,
   "metadata": {},
   "outputs": [
    {
     "data": {
      "application/vnd.jupyter.widget-view+json": {
       "model_id": "72d19440ce5a4161b8785a58a7b61885",
       "version_major": 2,
       "version_minor": 0
      },
      "text/plain": [
       "interactive(children=(Dropdown(description='Country:', options=('Romania', 'United States'), value='Romania'),…"
      ]
     },
     "metadata": {},
     "output_type": "display_data"
    }
   ],
   "source": [
    "# a. plot\n",
    "plot(df,scatter_func)"
   ]
  },
  {
   "attachments": {},
   "cell_type": "markdown",
   "metadata": {},
   "source": [
    "The graphs show that there is more correlation in the US comparing to Romania. It could also suggest that migration happens for other reasons in US than in Romania."
   ]
  },
  {
   "attachments": {},
   "cell_type": "markdown",
   "metadata": {},
   "source": [
    "# Analysis"
   ]
  },
  {
   "cell_type": "code",
   "execution_count": 14,
   "metadata": {},
   "outputs": [
    {
     "data": {
      "text/html": [
       "<div>\n",
       "<style scoped>\n",
       "    .dataframe tbody tr th:only-of-type {\n",
       "        vertical-align: middle;\n",
       "    }\n",
       "\n",
       "    .dataframe tbody tr th {\n",
       "        vertical-align: top;\n",
       "    }\n",
       "\n",
       "    .dataframe thead th {\n",
       "        text-align: right;\n",
       "    }\n",
       "</style>\n",
       "<table border=\"1\" class=\"dataframe\">\n",
       "  <thead>\n",
       "    <tr style=\"text-align: right;\">\n",
       "      <th></th>\n",
       "      <th></th>\n",
       "      <th>GDP</th>\n",
       "      <th>Employment Rate</th>\n",
       "      <th>Labor Force</th>\n",
       "      <th>Wage</th>\n",
       "    </tr>\n",
       "    <tr>\n",
       "      <th>country</th>\n",
       "      <th>measure</th>\n",
       "      <th></th>\n",
       "      <th></th>\n",
       "      <th></th>\n",
       "      <th></th>\n",
       "    </tr>\n",
       "  </thead>\n",
       "  <tbody>\n",
       "    <tr>\n",
       "      <th rowspan=\"2\" valign=\"top\">United States</th>\n",
       "      <th>corr</th>\n",
       "      <td>-0.670</td>\n",
       "      <td>0.376</td>\n",
       "      <td>-0.748</td>\n",
       "      <td>-0.690</td>\n",
       "    </tr>\n",
       "    <tr>\n",
       "      <th>R^2 (%)</th>\n",
       "      <td>45</td>\n",
       "      <td>14</td>\n",
       "      <td>56</td>\n",
       "      <td>48</td>\n",
       "    </tr>\n",
       "    <tr>\n",
       "      <th rowspan=\"2\" valign=\"top\">Romania</th>\n",
       "      <th>corr</th>\n",
       "      <td>0.251</td>\n",
       "      <td>0.060</td>\n",
       "      <td>-0.105</td>\n",
       "      <td>0.378</td>\n",
       "    </tr>\n",
       "    <tr>\n",
       "      <th>R^2 (%)</th>\n",
       "      <td>6</td>\n",
       "      <td>0</td>\n",
       "      <td>1</td>\n",
       "      <td>14</td>\n",
       "    </tr>\n",
       "  </tbody>\n",
       "</table>\n",
       "</div>"
      ],
      "text/plain": [
       "                          GDP Employment Rate Labor Force    Wage\n",
       "country       measure                                            \n",
       "United States corr     -0.670           0.376      -0.748  -0.690\n",
       "              R^2 (%)      45              14          56      48\n",
       "Romania       corr      0.251           0.060      -0.105   0.378\n",
       "              R^2 (%)       6               0           1      14"
      ]
     },
     "execution_count": 14,
     "metadata": {},
     "output_type": "execute_result"
    }
   ],
   "source": [
    "# a. sepparate US and Romania data\n",
    "df_US = df[df[\"country\"] == \"United States\"]\n",
    "df_Rom = df[df[\"country\"] == \"Romania\"]\n",
    "\n",
    "# b. select the correct columns\n",
    "var_list = df.columns.tolist()[3:]\n",
    "\n",
    "# c. create a dictionary with all combinations of countris and measures\n",
    "dict_var = {\"country\":[\"United States\", \"United States\", \"Romania\", \"Romania\"], \"measure\":[\"corr\",\"R^2 (%)\",\"corr\",\"R^2 (%)\"]}\n",
    "\n",
    "# d. adding the variables to the dictionary\n",
    "for data in var_list:\n",
    "\n",
    "    # i. calculating correlation between migration and data for each country \n",
    "    US_data = df_US[\"Net Migration\"].corr(df_US[data])\n",
    "    Rom_data = df_Rom[\"Net Migration\"].corr(df_Rom[data])\n",
    "\n",
    "    # ii. adding the correlation and coeficient of determination to the dictionary\n",
    "    dict_var[data] = [f\"{US_data:.3f}\" , f\"{100 * US_data**2:.0f}\", f\"{Rom_data:.3f}\", f\"{100 * Rom_data**2:.0f}\"]\n",
    "\n",
    "# e. create dataframe with data\n",
    "corr_table = pd.DataFrame(dict_var).set_index([\"country\",\"measure\"])\n",
    "\n",
    "corr_table"
   ]
  },
  {
   "attachments": {},
   "cell_type": "markdown",
   "metadata": {},
   "source": [
    "As we can see, our correlation results about GDP are inconclusive, since the US has a negative correlation, meaning that an increase in net migration is normally accompanied by a decrease in GDP, while Romania has a small, but positive correlation, showing the opposite effect. The coefficient of determination of Romania is really small, meaning the variation of the net migration rate can only explain 6% of the variation in the GDP. On the other hand, the US's net migration rate can explain 45% of the GDP variation.\n",
    "\n",
    "The employment percentage between both countries have a posisitive correlation, although very small in both, meaning an increase of the net migration rate, the employment rate increases too. But, this correlation only explains 14% of the variation in the US and 0% of the variation in Romania, therefore not being correlated.\n",
    "\n",
    "Labor force in both countries has a negative correlation, meaning a bigger net migration rate causes a negative influence in the labor force in a country. In the US, the variation in the net migration rate explains 56% of the variation in the labor force, while in Romania, it only explains 1%.\n",
    "\n",
    "Finally, the wage in both countries has a inconclusive correlation. The United States show a negative correlation, meaning a bigger net migration rate decreases wage, while the opposite happens in Romania. In the US, the wage variation can only be explained by 48% of the variation in the net migration rate, while in Romania, it only explains 14%."
   ]
  },
  {
   "attachments": {},
   "cell_type": "markdown",
   "metadata": {},
   "source": [
    "# Conclusion"
   ]
  },
  {
   "attachments": {},
   "cell_type": "markdown",
   "metadata": {},
   "source": [
    "We can conlude that net migration rate does not explain much of GDP, employment, labor force and wage in the US and in Romania. Therefore, it is not a good way of predicting all of those variables, and other variables might be more closely related to them.\n",
    "\n",
    "The labor force in the US has the best correlation with net migration, of 56%, but even then we can't sustain the claim that migration is bad, since correlation is not causation."
   ]
  }
 ],
 "metadata": {
  "kernelspec": {
   "display_name": "base",
   "language": "python",
   "name": "python3"
  },
  "language_info": {
   "codemirror_mode": {
    "name": "ipython",
    "version": 3
   },
   "file_extension": ".py",
   "mimetype": "text/x-python",
   "name": "python",
   "nbconvert_exporter": "python",
   "pygments_lexer": "ipython3",
   "version": "3.9.16"
  },
  "toc-autonumbering": true,
  "vscode": {
   "interpreter": {
    "hash": "5c915df45f1df280effe0598c7cf6b3f07ab3d9f1f2220bd3cbb74ebf26794f0"
   }
  }
 },
 "nbformat": 4,
 "nbformat_minor": 4
}
