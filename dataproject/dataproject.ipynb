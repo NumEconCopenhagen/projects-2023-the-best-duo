{
 "cells": [
  {
   "cell_type": "markdown",
   "metadata": {},
   "source": [
    "# YOUR PROJECT TITLE"
   ]
  },
  {
   "attachments": {},
   "cell_type": "markdown",
   "metadata": {},
   "source": [
    "> **Note the following:** \n",
    "> 1. This is *not* meant to be an example of an actual **data analysis project**, just an example of how to structure such a project.\n",
    "> 1. Remember the general advice on structuring and commenting your code\n",
    "> 1. The `dataproject.py` file includes a function which can be used multiple times in this notebook."
   ]
  },
  {
   "cell_type": "markdown",
   "metadata": {},
   "source": [
    "Imports and set magics:"
   ]
  },
  {
   "cell_type": "code",
   "execution_count": 1,
   "metadata": {},
   "outputs": [],
   "source": [
    "# a. import packages\n",
    "import pandas as pd\n",
    "import numpy as np\n",
    "import matplotlib.pyplot as plt\n",
    "import ipywidgets as widgets\n",
    "from pandas_datareader import wb\n",
    "\n",
    "# b. autoreload modules when code is run\n",
    "%load_ext autoreload\n",
    "%autoreload 2\n",
    "\n",
    "# c. user written modules\n",
    "from plot_function import *\n"
   ]
  },
  {
   "attachments": {},
   "cell_type": "markdown",
   "metadata": {},
   "source": [
    "# Introduction"
   ]
  },
  {
   "attachments": {},
   "cell_type": "markdown",
   "metadata": {},
   "source": [
    "In this project we would like to analyse the impacts of net migration on 4 different variables: GDP, employment rate, labour force and wage. We took on this project because migration is a big debate in the majority of rich countries, and especially with the rise of the far-right in Europe.\n",
    "\n",
    "We chose to study the USA, since it is a net imigration country, and Romania, since it is a net emigration country. We decided to use the data from 1991 - the first year we had all information - until 2019, to not take into account the pandemic. "
   ]
  },
  {
   "cell_type": "markdown",
   "metadata": {},
   "source": [
    "# Read and clean data"
   ]
  },
  {
   "cell_type": "markdown",
   "metadata": {},
   "source": [
    "Import your data, either through an API or manually, and load it. "
   ]
  },
  {
   "cell_type": "code",
   "execution_count": 2,
   "metadata": {},
   "outputs": [],
   "source": [
    "#setup period\n",
    "start_year = 1991\n",
    "end_year = 2019"
   ]
  },
  {
   "attachments": {},
   "cell_type": "markdown",
   "metadata": {},
   "source": [
    "We downloaded each dataframe and renamed the variable."
   ]
  },
  {
   "cell_type": "code",
   "execution_count": 3,
   "metadata": {},
   "outputs": [],
   "source": [
    "# a. migration\n",
    "df_migration = wb.download(indicator='SM.POP.NETM', country=[ 'USA', 'ROU'], start=start_year, end=end_year)\n",
    "df_migration = df_migration.rename(columns = {'SM.POP.NETM':'Net Migration'})\n",
    "\n",
    "# b. GDP\n",
    "df_gdp = wb.download(indicator='NY.GDP.MKTP.CD', country=[ 'USA', 'ROU'], start=start_year, end=end_year)\n",
    "df_gdp = df_gdp.rename(columns = {'NY.GDP.MKTP.CD':'GDP'})\n",
    "\n",
    "# c. employment rate\n",
    "df_employ = wb.download(indicator='SL.EMP.TOTL.SP.ZS', country=[ 'USA', 'ROU'], start=start_year, end=end_year)\n",
    "df_employ = df_employ.rename(columns = {'SL.EMP.TOTL.SP.ZS':'Employment Rate'})\n",
    "\n",
    "# d. labor force\n",
    "df_labour = wb.download(indicator='SL.TLF.TOTL.IN', country=[ 'USA', 'ROU'], start=start_year, end=end_year)\n",
    "df_labour = df_labour.rename(columns = {'SL.TLF.TOTL.IN':'Labor Force'})\n",
    "\n",
    "# e. wage\n",
    "df_wage = wb.download(indicator='SL.EMP.WORK.ZS', country=[ 'USA', 'ROU'], start=start_year, end=end_year)\n",
    "df_wage = df_wage.rename(columns = {'SL.EMP.WORK.ZS':'Wage'})\n",
    "\n",
    "# f. resetting indexes and column type\n",
    "df_migration = df_migration.reset_index().astype({'year': int, 'country': 'string'})\n",
    "df_gdp = df_gdp.reset_index().astype({'year': int, 'country': 'string'})\n",
    "df_employ = df_employ.reset_index().astype({'year': int, 'country': 'string'})\n",
    "df_labour = df_labour.reset_index().astype({'year': int, 'country': 'string'})\n",
    "df_wage = df_wage.reset_index().astype({'year': int, 'country': 'string'})\n",
    "\n",
    "# g. load data\n",
    "df_migration.to_csv('migration.csv', index=False)\n",
    "df_gdp.to_csv('gdp.csv', index=False)\n",
    "df_employ.to_csv('employment_ratio.csv', index=False)\n",
    "df_labour.to_csv('labour_force.csv', index=False)\n",
    "df_wage.to_csv('wage.csv', index=False)"
   ]
  },
  {
   "cell_type": "code",
   "execution_count": 4,
   "metadata": {},
   "outputs": [],
   "source": [
    "# a. create a list with the dataframes\n",
    "df_list = [df_gdp, df_employ, df_labour, df_wage]\n",
    "\n",
    "\n",
    "# b. merge all dataframes together\n",
    "df = df_migration\n",
    "\n",
    "for dtf in df_list:\n",
    "    df = pd.merge(df, dtf, how = 'outer', on = ['country','year'],)\n"
   ]
  },
  {
   "cell_type": "markdown",
   "metadata": {},
   "source": [
    "## Explore each data set"
   ]
  },
  {
   "cell_type": "markdown",
   "metadata": {},
   "source": [
    "In order to be able to **explore the raw data**, you may provide **static** and **interactive plots** to show important developments "
   ]
  },
  {
   "cell_type": "code",
   "execution_count": 5,
   "metadata": {},
   "outputs": [
    {
     "data": {
      "application/vnd.jupyter.widget-view+json": {
       "model_id": "acf7ddf4d25341a4a44d8698086feb25",
       "version_major": 2,
       "version_minor": 0
      },
      "text/plain": [
       "interactive(children=(Dropdown(description='Country:', options=('Romania', 'United States'), value='Romania'),…"
      ]
     },
     "metadata": {},
     "output_type": "display_data"
    }
   ],
   "source": [
    "#creation of a plot with two y-axis\n",
    "def plot_func(country, data):\n",
    "    country_data = df[df['country'] == country]\n",
    "    fig, ax1 = plt.subplots()\n",
    "\n",
    "    color = 'tab:blue'\n",
    "    ax1.set_xlabel('Year')\n",
    "    ax1.set_ylabel('Net Migration', color=color)\n",
    "    ax1.plot(country_data['year'], country_data['Net Migration'], color=color)\n",
    "    \n",
    "\n",
    "    ax2 = ax1.twinx()  \n",
    "\n",
    "    color = 'tab:purple'\n",
    "    ax2.set_ylabel(str(data), color=color)  \n",
    "    ax2.plot(country_data['year'], country_data[data], color=color)\n",
    "\n",
    "\n",
    "    plt.title(f'{country} Net Migration and GDP over Time')\n",
    "    fig.tight_layout()  \n",
    "    plt.show()\n",
    "\n",
    "#create of two dropdown\n",
    "country_widget = widgets.Dropdown(options=df['country'].unique(), description='Country:')\n",
    "data_list=df.columns.tolist()[3:]\n",
    "data_widget = widgets.Dropdown(options=data_list, description='Data:')\n",
    "\n",
    "#create an interactive plot\n",
    "widgets.interact(plot_func, country=country_widget, data=data_widget);\n"
   ]
  },
  {
   "cell_type": "code",
   "execution_count": 6,
   "metadata": {},
   "outputs": [
    {
     "data": {
      "application/vnd.jupyter.widget-view+json": {
       "model_id": "7d56739ac75447069e62dd92383900b5",
       "version_major": 2,
       "version_minor": 0
      },
      "text/plain": [
       "interactive(children=(Dropdown(description='Country:', options=('Romania', 'United States'), value='Romania'),…"
      ]
     },
     "metadata": {},
     "output_type": "display_data"
    }
   ],
   "source": [
    "#creation of a scatter plot\n",
    "def scatter_func(country, data):\n",
    "    country_data = df[df['country'] == country]\n",
    "    fig, ax1 = plt.subplots()\n",
    "\n",
    "    color = 'tab:blue'\n",
    "    ax1.set_xlabel('Net Migration')\n",
    "    ax1.set_ylabel(str(data), color=color)\n",
    "    ax1.scatter(country_data['Net Migration'], country_data[data], color=color)\n",
    "    \n",
    "    slope, intercept = np.polyfit(country_data['Net Migration'],country_data[data],1)\n",
    "    ax1.plot(country_data['Net Migration'],country_data['Net Migration']*slope+intercept)\n",
    "\n",
    "    plt.title(f'{country} Net Migration and data over Time')\n",
    "    fig.tight_layout()  \n",
    "    plt.show()\n",
    "\n",
    "#create of two dropdown\n",
    "country_widget = widgets.Dropdown(options=df['country'].unique(), description='Country:')\n",
    "data_list=df.columns.tolist()[3:]\n",
    "data_widget = widgets.Dropdown(options=data_list, description='Data:')\n",
    "\n",
    "#create an interactive plot\n",
    "widgets.interact(scatter_func, country=country_widget, data=data_widget);"
   ]
  },
  {
   "cell_type": "markdown",
   "metadata": {},
   "source": [
    "**Interactive plot** :"
   ]
  },
  {
   "cell_type": "markdown",
   "metadata": {},
   "source": [
    "Explain what you see when moving elements of the interactive plot around. "
   ]
  },
  {
   "cell_type": "markdown",
   "metadata": {},
   "source": [
    "# Merge data sets"
   ]
  },
  {
   "cell_type": "markdown",
   "metadata": {},
   "source": [
    "Here we are dropping elements from both data set X and data set Y. A left join would keep all observations in data X intact and subset only from Y. \n",
    "\n",
    "Make sure that your resulting data sets have the correct number of rows and columns. That is, be clear about which observations are thrown away. \n",
    "\n",
    "**Note:** Don't make Venn diagrams in your own data project. It is just for exposition. "
   ]
  },
  {
   "cell_type": "markdown",
   "metadata": {},
   "source": [
    "# Analysis"
   ]
  },
  {
   "cell_type": "code",
   "execution_count": 7,
   "metadata": {},
   "outputs": [
    {
     "name": "stdout",
     "output_type": "stream",
     "text": [
      "                          GDP Employment Rate Labor Force    Wage\n",
      "country       measure                                            \n",
      "United States corr     -0.670           0.376      -0.748  -0.689\n",
      "              R^2 (%)      45              14          56      48\n",
      "Romania       corr      0.251           0.060      -0.105   0.378\n",
      "              R^2 (%)       6               0           1      14\n"
     ]
    }
   ],
   "source": [
    "# a. sepparate US and Romania data\n",
    "df_US = df[df[\"country\"] == \"United States\"]\n",
    "df_Rom = df[df[\"country\"] == \"Romania\"]\n",
    "\n",
    "# b. select the correct columns\n",
    "var_list = df.columns.tolist()[3:]\n",
    "\n",
    "# c. create a dictionary with all combinations of countris and measures\n",
    "dict_var = {\"country\":[\"United States\", \"United States\", \"Romania\", \"Romania\"], \"measure\":[\"corr\",\"R^2 (%)\",\"corr\",\"R^2 (%)\"]}\n",
    "\n",
    "# d. adding the variables to the dictionary\n",
    "for data in var_list:\n",
    "\n",
    "    # i. calculating correlation between migration and data for each country \n",
    "    US_data = df_US[\"Net Migration\"].corr(df_US[data])\n",
    "    Rom_data = df_Rom[\"Net Migration\"].corr(df_Rom[data])\n",
    "\n",
    "    # ii. adding the correlation and coeficient of determination to the dictionary\n",
    "    dict_var[data] = [f\"{US_data:.3f}\" , f\"{100 * US_data**2:.0f}\", f\"{Rom_data:.3f}\", f\"{100 * Rom_data**2:.0f}\"]\n",
    "\n",
    "# e. create dataframe with data\n",
    "corr_table = pd.DataFrame(dict_var).set_index([\"country\",\"measure\"])\n",
    "\n",
    "print(corr_table)"
   ]
  },
  {
   "attachments": {},
   "cell_type": "markdown",
   "metadata": {},
   "source": [
    "As we can see, our correlation results about GDP are inconclusive, since the US has a negative correlation, meaning that an increase in net migration is normally accompanied by a decrease in GDP, while Romania has a small, but positive correlation, showing the opposite effect. The coefficient of determination of Romania is really small, meaning the variation of the net migration rate can only explain 6% of the variation in the GDP. On the other hand, the US's net migration rate can explain 45% of the GDP variation.\n",
    "\n",
    "The employment percentage between both countries have a posisitive correlation, although very small in both, meaning an increase of the net migration rate, the employment rate increases too. But, this correlation only explains 14% of the variation in the US and 0% of the variation in Romania, therefore not being correlated.\n",
    "\n",
    "Labor force in both countries has a negative correlation, meaning a bigger net migration rate causes a negative influence in the labor force in a country. In the US, the variation in the net migration rate explains 56% of the variation in the labor force, while in Romania, it only explains 1%.\n",
    "\n",
    "Finally, the wage in both countries has a inconclusive correlation. The United States show a negative correlation, meaning a bigger net migration rate decreases wage, while the opposite happens in Romania. In the US, the wage variation can only be explained by 48% of the variation in the net migration rate, while in Romania, it only explains 14%."
   ]
  },
  {
   "attachments": {},
   "cell_type": "markdown",
   "metadata": {},
   "source": []
  },
  {
   "cell_type": "markdown",
   "metadata": {},
   "source": [
    "# Conclusion"
   ]
  },
  {
   "attachments": {},
   "cell_type": "markdown",
   "metadata": {},
   "source": [
    "We can conlude that net migration rate does not explain much of GDP, employment, labor force and wage in the US and in Romania. Therefore, it is not a good way of predicting all of those variables, and other variables might be more closely related to them.\n",
    "\n",
    "The labor force in the US has the best correlation with net migration, of 56%, but even then we can't sustain the claim that migration is bad, since correlation is not causation."
   ]
  }
 ],
 "metadata": {
  "kernelspec": {
   "display_name": "base",
   "language": "python",
   "name": "python3"
  },
  "language_info": {
   "codemirror_mode": {
    "name": "ipython",
    "version": 3
   },
   "file_extension": ".py",
   "mimetype": "text/x-python",
   "name": "python",
   "nbconvert_exporter": "python",
   "pygments_lexer": "ipython3",
   "version": "3.9.16"
  },
  "toc-autonumbering": true,
  "vscode": {
   "interpreter": {
    "hash": "5c915df45f1df280effe0598c7cf6b3f07ab3d9f1f2220bd3cbb74ebf26794f0"
   }
  }
 },
 "nbformat": 4,
 "nbformat_minor": 4
}
