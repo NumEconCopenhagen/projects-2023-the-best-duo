{
 "cells": [
  {
   "attachments": {},
   "cell_type": "markdown",
   "metadata": {},
   "source": [
    "# YOUR PROJECT TITLE"
   ]
  },
  {
   "attachments": {},
   "cell_type": "markdown",
   "metadata": {},
   "source": [
    "> **Note the following:** \n",
    "> 1. This is *not* meant to be an example of an actual **model analysis project**, just an example of how to structure such a project.\n",
    "> 1. Remember the general advice on structuring and commenting your code\n",
    "> 1. The `modelproject.py` file includes a function which could be used multiple times in this notebook."
   ]
  },
  {
   "attachments": {},
   "cell_type": "markdown",
   "metadata": {},
   "source": [
    "Imports and set magics:"
   ]
  },
  {
   "cell_type": "code",
   "execution_count": 1,
   "metadata": {},
   "outputs": [],
   "source": [
    "import numpy as np\n",
    "from scipy import optimize\n",
    "import sympy as sm\n",
    "from functions_1 import *\n",
    "from class_1 import *\n",
    "\n",
    "# autoreload modules when code is run\n",
    "%load_ext autoreload\n",
    "%autoreload 2\n",
    "\n",
    "# local modules\n",
    "import modelproject"
   ]
  },
  {
   "attachments": {},
   "cell_type": "markdown",
   "metadata": {},
   "source": [
    "# Model description"
   ]
  },
  {
   "attachments": {},
   "cell_type": "markdown",
   "metadata": {},
   "source": [
    "**Write out the model in equations here.** \n",
    "\n",
    "Make sure you explain well the purpose of the model and comment so that other students who may not have seen it before can follow.  "
   ]
  },
  {
   "attachments": {},
   "cell_type": "markdown",
   "metadata": {},
   "source": [
    "## Analytical solution"
   ]
  },
  {
   "attachments": {},
   "cell_type": "markdown",
   "metadata": {},
   "source": [
    "If your model allows for an analytical solution, you should provide here.\n",
    "\n",
    "You may use Sympy for this. Then you can characterize the solution as a function of a parameter of the model.\n",
    "\n",
    "To characterize the solution, first derive a steady state equation as a function of a parameter using Sympy.solve and then turn it into a python function by Sympy.lambdify. See the lecture notes for details. "
   ]
  },
  {
   "attachments": {},
   "cell_type": "markdown",
   "metadata": {},
   "source": [
    "## Numerical solution"
   ]
  },
  {
   "cell_type": "code",
   "execution_count": 2,
   "metadata": {},
   "outputs": [
    {
     "name": "stdout",
     "output_type": "stream",
     "text": [
      "The trade has failed ;-;\n",
      "51.0 50 60\n",
      "The trade was successful, for a price of 50\n",
      "50.0 51 60\n"
     ]
    }
   ],
   "source": [
    "Marie = buyer(0,75,50)\n",
    "Luís = seller(0,25,50)\n",
    "César = seller(1,25,60)\n",
    "\n",
    "trade(Marie,César,n_sellers = 2,do_print=True)\n",
    "print(Marie.curr_p,Luís.curr_p,César.curr_p)\n",
    "trade(Marie,Luís,n_sellers = 2,do_print=True)\n",
    "print(Marie.curr_p,Luís.curr_p,César.curr_p)"
   ]
  },
  {
   "cell_type": "code",
   "execution_count": 3,
   "metadata": {},
   "outputs": [
    {
     "ename": "SyntaxError",
     "evalue": "invalid syntax (1956102153.py, line 3)",
     "output_type": "error",
     "traceback": [
      "\u001b[1;36m  Cell \u001b[1;32mIn[3], line 3\u001b[1;36m\u001b[0m\n\u001b[1;33m    [i for i in list_test if i[1] != César and i[0] =]\u001b[0m\n\u001b[1;37m                                                    ^\u001b[0m\n\u001b[1;31mSyntaxError\u001b[0m\u001b[1;31m:\u001b[0m invalid syntax\n"
     ]
    }
   ],
   "source": [
    "list_test = [[Marie,Luís],[Marie,César]]\n",
    "\n",
    "[i for i in list_test if i[1] != César and i[0] =]"
   ]
  },
  {
   "cell_type": "code",
   "execution_count": null,
   "metadata": {},
   "outputs": [
    {
     "name": "stdout",
     "output_type": "stream",
     "text": [
      "New day\n",
      "[[<class_1.buyer object at 0x00000213F0DB2910>, <class_1.seller object at 0x00000213F0DB2520>], [<class_1.buyer object at 0x00000213F0DB2CA0>, <class_1.seller object at 0x00000213F0DB23D0>], [<class_1.buyer object at 0x00000213F0DB2370>, <class_1.seller object at 0x00000213F0DB2460>], [<class_1.buyer object at 0x00000213F0DB2EB0>, <class_1.seller object at 0x00000213F0DB2610>], [<class_1.buyer object at 0x00000213F0DB2220>, <class_1.seller object at 0x00000213F0DB23D0>], [<class_1.buyer object at 0x00000213F0DB21F0>, <class_1.seller object at 0x00000213F0DB2C70>], [<class_1.buyer object at 0x00000213F0DB2D00>, <class_1.seller object at 0x00000213F0DB2520>], [<class_1.buyer object at 0x00000213F0DB2EB0>, <class_1.seller object at 0x00000213F0DB23D0>], [<class_1.buyer object at 0x00000213F0DB2EB0>, <class_1.seller object at 0x00000213F0DB22E0>], [<class_1.buyer object at 0x00000213F0DB2EB0>, <class_1.seller object at 0x00000213F0DB2C70>], [<class_1.buyer object at 0x00000213F0DB2370>, <class_1.seller object at 0x00000213F0DB2C70>], [<class_1.buyer object at 0x00000213F0DB21F0>, <class_1.seller object at 0x00000213F0DB2BE0>], [<class_1.buyer object at 0x00000213F0DB2CA0>, <class_1.seller object at 0x00000213F0DB2460>], [<class_1.buyer object at 0x00000213F0DB2CA0>, <class_1.seller object at 0x00000213F0DB2520>], [<class_1.buyer object at 0x00000213F0DB2EE0>, <class_1.seller object at 0x00000213F0DB2520>], [<class_1.buyer object at 0x00000213F0DB2EE0>, <class_1.seller object at 0x00000213F0DB20A0>], [<class_1.buyer object at 0x00000213F0D73C70>, <class_1.seller object at 0x00000213F0DB22E0>], [<class_1.buyer object at 0x00000213F0D73C70>, <class_1.seller object at 0x00000213F0DB20A0>], [<class_1.buyer object at 0x00000213F0DB2220>, <class_1.seller object at 0x00000213F0DB2A00>], [<class_1.buyer object at 0x00000213F0DB2EE0>, <class_1.seller object at 0x00000213F0DB23D0>], [<class_1.buyer object at 0x00000213F0DB2D00>, <class_1.seller object at 0x00000213F0DB2A00>], [<class_1.buyer object at 0x00000213F0DB2CA0>, <class_1.seller object at 0x00000213F0DB20A0>], [<class_1.buyer object at 0x00000213F0DB2EE0>, <class_1.seller object at 0x00000213F0DB2820>], [<class_1.buyer object at 0x00000213F0DB2220>, <class_1.seller object at 0x00000213F0DB22E0>], [<class_1.buyer object at 0x00000213F0DB2220>, <class_1.seller object at 0x00000213F0DB2820>], [<class_1.buyer object at 0x00000213F0DB2CA0>, <class_1.seller object at 0x00000213F0DB2610>], [<class_1.buyer object at 0x00000213F0DB2D00>, <class_1.seller object at 0x00000213F0DB2610>], [<class_1.buyer object at 0x00000213F0D013D0>, <class_1.seller object at 0x00000213F0DB2520>], [<class_1.buyer object at 0x00000213F0DB2EE0>, <class_1.seller object at 0x00000213F0DB2610>], [<class_1.buyer object at 0x00000213F0DB2EB0>, <class_1.seller object at 0x00000213F0DB2A00>], [<class_1.buyer object at 0x00000213F0DB2EE0>, <class_1.seller object at 0x00000213F0DB2460>], [<class_1.buyer object at 0x00000213F0D73C70>, <class_1.seller object at 0x00000213F0DB2A00>], [<class_1.buyer object at 0x00000213F0DB2220>, <class_1.seller object at 0x00000213F0DB2520>], [<class_1.buyer object at 0x00000213F0D013D0>, <class_1.seller object at 0x00000213F0DB2820>], [<class_1.buyer object at 0x00000213F0D73C70>, <class_1.seller object at 0x00000213F0DB2C70>], [<class_1.buyer object at 0x00000213F0DB21F0>, <class_1.seller object at 0x00000213F0DB2A00>], [<class_1.buyer object at 0x00000213F0DB2220>, <class_1.seller object at 0x00000213F0DB2C70>], [<class_1.buyer object at 0x00000213F0DB2370>, <class_1.seller object at 0x00000213F0DB2610>], [<class_1.buyer object at 0x00000213F0D013D0>, <class_1.seller object at 0x00000213F0DB2C70>], [<class_1.buyer object at 0x00000213F0DB2370>, <class_1.seller object at 0x00000213F0DB2820>], [<class_1.buyer object at 0x00000213F0D013D0>, <class_1.seller object at 0x00000213F0DB2460>], [<class_1.buyer object at 0x00000213F0DB2910>, <class_1.seller object at 0x00000213F0DB2A00>], [<class_1.buyer object at 0x00000213F0DB2CA0>, <class_1.seller object at 0x00000213F0DB22E0>], [<class_1.buyer object at 0x00000213F0D013D0>, <class_1.seller object at 0x00000213F0DB2610>], [<class_1.buyer object at 0x00000213F0D013D0>, <class_1.seller object at 0x00000213F0DB2BE0>], [<class_1.buyer object at 0x00000213F0DB2370>, <class_1.seller object at 0x00000213F0DB20A0>], [<class_1.buyer object at 0x00000213F0DB2D00>, <class_1.seller object at 0x00000213F0DB2460>], [<class_1.buyer object at 0x00000213F0DB2910>, <class_1.seller object at 0x00000213F0DB2BE0>], [<class_1.buyer object at 0x00000213F0DB2CA0>, <class_1.seller object at 0x00000213F0DB2820>], [<class_1.buyer object at 0x00000213F0DB2D00>, <class_1.seller object at 0x00000213F0DB23D0>], [<class_1.buyer object at 0x00000213F0DB2910>, <class_1.seller object at 0x00000213F0DB2460>], [<class_1.buyer object at 0x00000213F0DB21F0>, <class_1.seller object at 0x00000213F0DB23D0>], [<class_1.buyer object at 0x00000213F0DB2370>, <class_1.seller object at 0x00000213F0DB2BE0>], [<class_1.buyer object at 0x00000213F0DB2910>, <class_1.seller object at 0x00000213F0DB20A0>], [<class_1.buyer object at 0x00000213F0DB2D00>, <class_1.seller object at 0x00000213F0DB22E0>], [<class_1.buyer object at 0x00000213F0DB2910>, <class_1.seller object at 0x00000213F0DB2820>], [<class_1.buyer object at 0x00000213F0DB2EE0>, <class_1.seller object at 0x00000213F0DB2BE0>], [<class_1.buyer object at 0x00000213F0DB2D00>, <class_1.seller object at 0x00000213F0DB20A0>], [<class_1.buyer object at 0x00000213F0DB21F0>, <class_1.seller object at 0x00000213F0DB2520>], [<class_1.buyer object at 0x00000213F0DB2EE0>, <class_1.seller object at 0x00000213F0DB22E0>], [<class_1.buyer object at 0x00000213F0D013D0>, <class_1.seller object at 0x00000213F0DB2A00>], [<class_1.buyer object at 0x00000213F0DB21F0>, <class_1.seller object at 0x00000213F0DB2460>], [<class_1.buyer object at 0x00000213F0D013D0>, <class_1.seller object at 0x00000213F0DB22E0>], [<class_1.buyer object at 0x00000213F0DB2370>, <class_1.seller object at 0x00000213F0DB22E0>], [<class_1.buyer object at 0x00000213F0DB2910>, <class_1.seller object at 0x00000213F0DB22E0>], [<class_1.buyer object at 0x00000213F0DB21F0>, <class_1.seller object at 0x00000213F0DB2610>], [<class_1.buyer object at 0x00000213F0DB2D00>, <class_1.seller object at 0x00000213F0DB2820>], [<class_1.buyer object at 0x00000213F0DB2370>, <class_1.seller object at 0x00000213F0DB23D0>], [<class_1.buyer object at 0x00000213F0DB2EB0>, <class_1.seller object at 0x00000213F0DB2BE0>], [<class_1.buyer object at 0x00000213F0D73C70>, <class_1.seller object at 0x00000213F0DB2460>], [<class_1.buyer object at 0x00000213F0DB2370>, <class_1.seller object at 0x00000213F0DB2520>], [<class_1.buyer object at 0x00000213F0D013D0>, <class_1.seller object at 0x00000213F0DB23D0>], [<class_1.buyer object at 0x00000213F0D73C70>, <class_1.seller object at 0x00000213F0DB2820>], [<class_1.buyer object at 0x00000213F0D73C70>, <class_1.seller object at 0x00000213F0DB2610>], [<class_1.buyer object at 0x00000213F0DB21F0>, <class_1.seller object at 0x00000213F0DB2820>], [<class_1.buyer object at 0x00000213F0DB2220>, <class_1.seller object at 0x00000213F0DB2BE0>], [<class_1.buyer object at 0x00000213F0D013D0>, <class_1.seller object at 0x00000213F0DB20A0>], [<class_1.buyer object at 0x00000213F0DB21F0>, <class_1.seller object at 0x00000213F0DB20A0>], [<class_1.buyer object at 0x00000213F0DB2220>, <class_1.seller object at 0x00000213F0DB2610>], [<class_1.buyer object at 0x00000213F0DB2220>, <class_1.seller object at 0x00000213F0DB2460>], [<class_1.buyer object at 0x00000213F0DB2CA0>, <class_1.seller object at 0x00000213F0DB2A00>], [<class_1.buyer object at 0x00000213F0DB2D00>, <class_1.seller object at 0x00000213F0DB2BE0>], [<class_1.buyer object at 0x00000213F0DB2CA0>, <class_1.seller object at 0x00000213F0DB2BE0>], [<class_1.buyer object at 0x00000213F0DB2EB0>, <class_1.seller object at 0x00000213F0DB2520>], [<class_1.buyer object at 0x00000213F0D73C70>, <class_1.seller object at 0x00000213F0DB2520>], [<class_1.buyer object at 0x00000213F0DB2370>, <class_1.seller object at 0x00000213F0DB2A00>], [<class_1.buyer object at 0x00000213F0DB2D00>, <class_1.seller object at 0x00000213F0DB2C70>], [<class_1.buyer object at 0x00000213F0DB2910>, <class_1.seller object at 0x00000213F0DB23D0>], [<class_1.buyer object at 0x00000213F0DB21F0>, <class_1.seller object at 0x00000213F0DB22E0>], [<class_1.buyer object at 0x00000213F0D73C70>, <class_1.seller object at 0x00000213F0DB23D0>], [<class_1.buyer object at 0x00000213F0DB2910>, <class_1.seller object at 0x00000213F0DB2C70>], [<class_1.buyer object at 0x00000213F0DB2220>, <class_1.seller object at 0x00000213F0DB20A0>], [<class_1.buyer object at 0x00000213F0DB2CA0>, <class_1.seller object at 0x00000213F0DB2C70>], [<class_1.buyer object at 0x00000213F0DB2EE0>, <class_1.seller object at 0x00000213F0DB2C70>], [<class_1.buyer object at 0x00000213F0D73C70>, <class_1.seller object at 0x00000213F0DB2BE0>], [<class_1.buyer object at 0x00000213F0DB2EB0>, <class_1.seller object at 0x00000213F0DB2820>], [<class_1.buyer object at 0x00000213F0DB2EB0>, <class_1.seller object at 0x00000213F0DB20A0>], [<class_1.buyer object at 0x00000213F0DB2910>, <class_1.seller object at 0x00000213F0DB2610>], [<class_1.buyer object at 0x00000213F0DB2EB0>, <class_1.seller object at 0x00000213F0DB2460>], [<class_1.buyer object at 0x00000213F0DB2EE0>, <class_1.seller object at 0x00000213F0DB2A00>]]\n",
      "22\n",
      "22\n",
      "22\n",
      "22\n",
      "22\n",
      "22\n",
      "22\n",
      "22\n",
      "22\n",
      "22\n"
     ]
    },
    {
     "ename": "TypeError",
     "evalue": "'int' object is not iterable",
     "output_type": "error",
     "traceback": [
      "\u001b[1;31m---------------------------------------------------------------------------\u001b[0m",
      "\u001b[1;31mTypeError\u001b[0m                                 Traceback (most recent call last)",
      "Cell \u001b[1;32mIn[34], line 5\u001b[0m\n\u001b[0;32m      1\u001b[0m dem_func \u001b[39m=\u001b[39m \u001b[39mlambda\u001b[39;00m x: \u001b[39m100\u001b[39m \u001b[39m-\u001b[39m \u001b[39m5\u001b[39m\u001b[39m*\u001b[39mx\n\u001b[0;32m      2\u001b[0m sup_func \u001b[39m=\u001b[39m \u001b[39mlambda\u001b[39;00m x: x\n\u001b[1;32m----> 5\u001b[0m economy_simulation(dem_func,sup_func,\u001b[39m22\u001b[39;49m, dem_dom\u001b[39m=\u001b[39;49m[\u001b[39m0\u001b[39;49m,\u001b[39m9\u001b[39;49m], sup_dom\u001b[39m=\u001b[39;49m[\u001b[39m0\u001b[39;49m,\u001b[39m9\u001b[39;49m],n_days\u001b[39m=\u001b[39;49m\u001b[39m2\u001b[39;49m,n_buyers\u001b[39m=\u001b[39;49m\u001b[39m10\u001b[39;49m,n_sellers\u001b[39m=\u001b[39;49m\u001b[39m10\u001b[39;49m)\u001b[39m.\u001b[39;49msimulate()\n",
      "File \u001b[1;32mc:\\Users\\lmigu\\OneDrive\\Documentos\\Uni\\Semestre 4 (Erasmus)\\Programming\\coding\\projects-2023-the-best-duo\\modelproject\\class_1.py:83\u001b[0m, in \u001b[0;36meconomy_simulation.simulate\u001b[1;34m(self)\u001b[0m\n\u001b[0;32m     81\u001b[0m \u001b[39mif\u001b[39;00m success:\n\u001b[0;32m     82\u001b[0m     poss_comb \u001b[39m=\u001b[39m [t \u001b[39mfor\u001b[39;00m t \u001b[39min\u001b[39;00m poss_comb \u001b[39mif\u001b[39;00m (t[\u001b[39m0\u001b[39m]\u001b[39m.\u001b[39mpar\u001b[39m.\u001b[39mid \u001b[39m!=\u001b[39m buyer_id \u001b[39mand\u001b[39;00m t[\u001b[39m1\u001b[39m]\u001b[39m.\u001b[39mpar\u001b[39m.\u001b[39mid \u001b[39m!=\u001b[39m seller_id)]\n\u001b[1;32m---> 83\u001b[0m     \u001b[39mprint\u001b[39m(p)\n",
      "\u001b[1;31mTypeError\u001b[0m: 'int' object is not iterable"
     ]
    }
   ],
   "source": [
    "dem_func = lambda x: 100 - 5*x\n",
    "sup_func = lambda x: x\n",
    "\n",
    "\n",
    "economy_simulation(dem_func,sup_func,22, dem_dom=[0,9], sup_dom=[0,9],n_days=2,n_buyers=10,n_sellers=10).simulate()"
   ]
  },
  {
   "attachments": {},
   "cell_type": "markdown",
   "metadata": {},
   "source": [
    "You can always solve a model numerically. \n",
    "\n",
    "Define first the set of parameters you need. \n",
    "\n",
    "Then choose one of the optimization algorithms that we have gone through in the lectures based on what you think is most fitting for your model.\n",
    "\n",
    "Are there any problems with convergence? Does the model converge for all starting values? Make a lot of testing to figure these things out. "
   ]
  },
  {
   "attachments": {},
   "cell_type": "markdown",
   "metadata": {},
   "source": [
    "# Further analysis"
   ]
  },
  {
   "attachments": {},
   "cell_type": "markdown",
   "metadata": {},
   "source": [
    "Make detailed vizualizations of how your model changes with parameter values. \n",
    "\n",
    "Try to make an extension of the model. "
   ]
  },
  {
   "attachments": {},
   "cell_type": "markdown",
   "metadata": {},
   "source": [
    "# Conclusion"
   ]
  },
  {
   "attachments": {},
   "cell_type": "markdown",
   "metadata": {},
   "source": [
    "Add concise conclusion. "
   ]
  }
 ],
 "metadata": {
  "kernelspec": {
   "display_name": "base",
   "language": "python",
   "name": "python3"
  },
  "language_info": {
   "codemirror_mode": {
    "name": "ipython",
    "version": 3
   },
   "file_extension": ".py",
   "mimetype": "text/x-python",
   "name": "python",
   "nbconvert_exporter": "python",
   "pygments_lexer": "ipython3",
   "version": "3.9.16"
  },
  "toc-autonumbering": true,
  "vscode": {
   "interpreter": {
    "hash": "47ef90cdf3004d3f859f1fb202523c65c07ba7c22eefd261b181f4744e2d0403"
   }
  }
 },
 "nbformat": 4,
 "nbformat_minor": 4
}
