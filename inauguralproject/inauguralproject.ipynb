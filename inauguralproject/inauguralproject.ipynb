{
 "cells": [
  {
   "cell_type": "markdown",
   "metadata": {},
   "source": [
    "# Inaugural Project"
   ]
  },
  {
   "attachments": {},
   "cell_type": "markdown",
   "metadata": {},
   "source": [
    "> **Note the following:** \n",
    "> 1. This is an example of how to structure your **inaugural project**.\n",
    "> 1. Remember the general advice on structuring and commenting your code\n",
    "> 1. The `inauguralproject.py` file includes a function which can be used multiple times in this notebook."
   ]
  },
  {
   "cell_type": "markdown",
   "metadata": {},
   "source": [
    "Imports and set magics:"
   ]
  },
  {
   "cell_type": "code",
   "execution_count": 2,
   "metadata": {},
   "outputs": [],
   "source": [
    "import numpy as np\n",
    "\n",
    "from HouseholdSpecializationModel import HouseholdSpecializationModelClass\n",
    "# autoreload modules when code is run. Otherwise, python will not see recent changes. \n",
    "%load_ext autoreload\n",
    "%autoreload 2\n",
    "\n",
    "# Import your own code\n",
    "import inauguralproject\n",
    "\n",
    "import matplotlib.pyplot as plt # baseline module\n",
    "\n",
    "# Predefine options for all plots\n",
    "plt.rcParams.update({\"axes.grid\":True,\"grid.color\":\"black\",\"grid.alpha\":\"0.25\",\"grid.linestyle\":\"-\"})\n",
    "plt.rcParams.update({'font.size': 14})"
   ]
  },
  {
   "cell_type": "markdown",
   "metadata": {},
   "source": [
    "# Question 1"
   ]
  },
  {
   "cell_type": "markdown",
   "metadata": {},
   "source": [
    "**Explain how you solve the model**"
   ]
  },
  {
   "cell_type": "code",
   "execution_count": 3,
   "metadata": {},
   "outputs": [
    {
     "name": "stderr",
     "output_type": "stream",
     "text": [
      "c:\\Users\\m-fdu\\OneDrive\\Documents\\IntroProg-lectures\\projects-2023-the-best-duo\\inauguralproject\\HouseholdSpecializationModel.py:64: RuntimeWarning: divide by zero encountered in reciprocal\n",
      "  H = ((1-par.alpha)*HM**((par.sigma-1)/par.sigma)\n",
      "c:\\Users\\m-fdu\\OneDrive\\Documents\\IntroProg-lectures\\projects-2023-the-best-duo\\inauguralproject\\HouseholdSpecializationModel.py:65: RuntimeWarning: divide by zero encountered in reciprocal\n",
      "  + par.alpha*HF**((par.sigma-1)/par.sigma)) ** (par.sigma/(par.sigma-1))\n"
     ]
    },
    {
     "name": "stdout",
     "output_type": "stream",
     "text": [
      "(α, σ) : (0.25, 0.50) --> ratio = 0.5455\n",
      "(α, σ) : (0.25, 1.00) --> ratio = 0.3077\n",
      "(α, σ) : (0.25, 1.50) --> ratio = 0.2143\n",
      "(α, σ) : (0.50, 0.50) --> ratio = 1.0000\n",
      "(α, σ) : (0.50, 1.00) --> ratio = 1.0000\n",
      "(α, σ) : (0.50, 1.50) --> ratio = 1.0000\n",
      "(α, σ) : (0.75, 0.50) --> ratio = 1.8333\n",
      "(α, σ) : (0.75, 1.00) --> ratio = 3.2500\n",
      "(α, σ) : (0.75, 1.50) --> ratio = 4.6667\n"
     ]
    }
   ],
   "source": [
    "#trying to solve\n",
    "# 1. Setup\n",
    "model = HouseholdSpecializationModelClass()\n",
    "\n",
    "alpha_vec = np.linspace(0.25,0.75,3)\n",
    "sigma_vec = np.linspace(0.5,1.5,3)\n",
    "sol_array = np.zeros((len(alpha_vec),len(sigma_vec)))\n",
    "\n",
    "# 2. Creating the solution\n",
    "for alp_i in range(len(alpha_vec)):\n",
    "    for sig_i in range(len(sigma_vec)):\n",
    "        model.par.alpha = alpha_vec[alp_i]\n",
    "        model.par.sigma = sigma_vec[sig_i]\n",
    "        \n",
    "        opt = model.solve_discrete()\n",
    "\n",
    "        # We have to filter out whenever HM is 0 (ratio would be infinite)\n",
    "        if opt.HM == 0:\n",
    "            ratio = np.inf\n",
    "        \n",
    "        else:\n",
    "            ratio = opt.HF / opt.HM\n",
    "        \n",
    "        print(f'(\\u03B1, \\u03C3) : ({alpha_vec[alp_i]:.2f}, {sigma_vec[sig_i]:.2F}) --> ratio ={ratio: .4F}')\n",
    "              \n",
    "#//Afterwards we can find a better way of displaying this."
   ]
  },
  {
   "cell_type": "markdown",
   "metadata": {},
   "source": [
    "# Question 2"
   ]
  },
  {
   "cell_type": "markdown",
   "metadata": {},
   "source": [
    "Explain your code and procedure"
   ]
  },
  {
   "cell_type": "code",
   "execution_count": 20,
   "metadata": {},
   "outputs": [
    {
     "name": "stdout",
     "output_type": "stream",
     "text": [
      "[ 0.09691001  0.          0.         -0.05115252 -0.09691001] [-0.09691001 -0.04575749  0.          0.04139269  0.07918125]\n"
     ]
    },
    {
     "data": {
      "image/png": "[encoded data removed]",
      "text/plain": [
       "<Figure size 640x480 with 1 Axes>"
      ]
     },
     "metadata": {},
     "output_type": "display_data"
    }
   ],
   "source": [
    "# a. parameter reset\n",
    "model.par.alpha = 0.5\n",
    "model.par.sigma = 1.0\n",
    "model.par.wF_vec = [0.8, 0.9, 1.0, 1.1, 1.2]\n",
    "model.par.wM_vec = np.ones(len(model.par.wF_vec))\n",
    "\n",
    "# b. solve\n",
    "sol = model.solve_wF_vec(True)\n",
    "\n",
    "# c. log arrays\n",
    "logHF_HM = np.log10(sol.HF_vec / sol.HM_vec)\n",
    "logwF_wM = np.log10(model.par.wF_vec / model.par.wM_vec)\n",
    "\n",
    "\n",
    "print(logHF_HM, logwF_wM)\n",
    "\n",
    "\n",
    "# d. plot \n",
    "plt.yscale(value='log')\n",
    "plt.scatter(logwF_wM, logHF_HM)\n",
    "plt.show()\n",
    "\n"
   ]
  },
  {
   "cell_type": "markdown",
   "metadata": {},
   "source": [
    "# Question 3"
   ]
  },
  {
   "cell_type": "markdown",
   "metadata": {},
   "source": [
    "Explain your code and procedure"
   ]
  },
  {
   "cell_type": "code",
   "execution_count": 21,
   "metadata": {},
   "outputs": [
    {
     "name": "stdout",
     "output_type": "stream",
     "text": [
      "[ 9.78029373e-02  4.23642500e-05  9.35626573e-10 -3.76973319e-05\n",
      " -8.10507540e-02] [-0.09691001 -0.04575749  0.          0.04139269  0.07918125]\n"
     ]
    },
    {
     "data": {
      "image/png": "[encoded data removed]",
      "text/plain": [
       "<Figure size 640x480 with 1 Axes>"
      ]
     },
     "metadata": {},
     "output_type": "display_data"
    }
   ],
   "source": [
    "model.par.alpha = 0.5\n",
    "model.par.sigma = 1.0\n",
    "model.par.wF_vec = [0.8, 0.9, 1.0, 1.1, 1.2]\n",
    "model.par.wM_vec = np.ones(len(model.par.wF_vec))\n",
    "\n",
    "# b. solve\n",
    "sol = model.solve_wF_vec()\n",
    "\n",
    "# c. log arrays\n",
    "logHF_HM = np.log10(sol.HF_vec / sol.HM_vec)\n",
    "logwF_wM = np.log10(model.par.wF_vec / model.par.wM_vec)\n",
    "\n",
    "\n",
    "\n",
    "print(logHF_HM, logwF_wM)\n",
    "\n",
    "\n",
    "# d. plot \n",
    "plt.yscale(value='log')\n",
    "plt.scatter(logwF_wM, logHF_HM)\n",
    "plt.show()"
   ]
  },
  {
   "cell_type": "markdown",
   "metadata": {},
   "source": [
    "ADD CONCISE CONLUSION."
   ]
  }
 ],
 "metadata": {
  "kernelspec": {
   "display_name": "base",
   "language": "python",
   "name": "python3"
  },
  "language_info": {
   "codemirror_mode": {
    "name": "ipython",
    "version": 3
   },
   "file_extension": ".py",
   "mimetype": "text/x-python",
   "name": "python",
   "nbconvert_exporter": "python",
   "pygments_lexer": "ipython3",
   "version": "3.9.16"
  },
  "toc-autonumbering": true,
  "vscode": {
   "interpreter": {
    "hash": "47ef90cdf3004d3f859f1fb202523c65c07ba7c22eefd261b181f4744e2d0403"
   }
  }
 },
 "nbformat": 4,
 "nbformat_minor": 4
}
